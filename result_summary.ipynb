{
 "cells": [
  {
   "cell_type": "code",
   "execution_count": 6,
   "metadata": {
    "collapsed": true
   },
   "outputs": [],
   "source": [
    "import pandas as pd\n",
    "import numpy as np\n",
    "from datetime import datetime \n",
    "import os\n",
    "import transcation as tran\n",
    "import tushare as ts\n",
    "%matplotlib inline\n",
    "import pyfolio as pf\n",
    "import pandas as pd\n",
    "import matplotlib as mpl\n",
    "mpl.rcParams[\"figure.facecolor\"] = \"white\"\n",
    "mpl.rcParams[\"axes.facecolor\"] = \"white\"\n",
    "mpl.rcParams[\"savefig.facecolor\"] = \"white\""
   ]
  },
  {
   "cell_type": "markdown",
   "metadata": {},
   "source": [
    "读取交易日历"
   ]
  },
  {
   "cell_type": "code",
   "execution_count": 12,
   "metadata": {
    "collapsed": true
   },
   "outputs": [],
   "source": [
    "dfday = pd.read_csv('tradeDate.csv')\n",
    "dfday.columns = ['zzz','calendarDate']\n",
    "dfday.drop('zzz',axis=1,inplace=True)\n",
    "dates = list(dfday.calendarDate)"
   ]
  },
  {
   "cell_type": "markdown",
   "metadata": {},
   "source": [
    "晚上交易的算下一个交易日"
   ]
  },
  {
   "cell_type": "code",
   "execution_count": 13,
   "metadata": {
    "collapsed": true
   },
   "outputs": [],
   "source": [
    "def business_date(t):\n",
    "    if t.hour > 15: # afternoon\n",
    "        return dates[dates.index(t.strftime('%Y-%m-%d')) + 1]\n",
    "    else:\n",
    "        return t.strftime('%Y-%m-%d')"
   ]
  },
  {
   "cell_type": "markdown",
   "metadata": {},
   "source": [
    "返回所有交易记录"
   ]
  },
  {
   "cell_type": "code",
   "execution_count": 15,
   "metadata": {
    "collapsed": true
   },
   "outputs": [],
   "source": [
    "def find_transaction(path):\n",
    "    dfs = []\n",
    "    for f in os.listdir(path):\n",
    "        if f.find('orders.csv') == -1:\n",
    "            continue\n",
    "        df = pd.read_csv(os.path.join(path, f), index_col=0, parse_dates=True, \n",
    "                         header=None, names=['order_id', 'open_close', 'direction', 'status', 'price', 'lots'])\n",
    "        df['instrument'] = f[:f.find('_')]\n",
    "        dfs.append(df)\n",
    "    df = pd.concat(dfs)\n",
    "    df = df[df.status == 1]\n",
    "    df.sort_index(inplace=True)\n",
    "    df.index.name = 'datetime'\n",
    "    df.reset_index(inplace=True)\n",
    "    df['real_trade_date'] = df.datetime.apply(business_date)\n",
    "    df.set_index('datetime', inplace=True)\n",
    "    df.open_close = df.open_close.apply(lambda x : 0 if x == 'O' else 1)\n",
    "    df.direction = df.direction.apply(lambda x : 0 if x == 'B' else 1)\n",
    "    return df\n",
    "    "
   ]
  },
  {
   "cell_type": "markdown",
   "metadata": {},
   "source": [
    "读取合约的每天收益净值"
   ]
  },
  {
   "cell_type": "code",
   "execution_count": 28,
   "metadata": {
    "collapsed": true
   },
   "outputs": [],
   "source": [
    "def find_instrument_equitys(path,instrument):\n",
    "    df = pd.read_csv(os.path.join(path, '%s_equitys.csv' % instrument), header=None, names=['timestamp', 'equitys', 'pnl', 'fee'])\n",
    "    df['datetime'] = (df.timestamp/1000.0).apply(datetime.utcfromtimestamp)\n",
    "    return df"
   ]
  },
  {
   "cell_type": "markdown",
   "metadata": {},
   "source": [
    "计算策略所有合约收益率"
   ]
  },
  {
   "cell_type": "code",
   "execution_count": 4,
   "metadata": {
    "collapsed": true
   },
   "outputs": [],
   "source": [
    "def calc_instrument_rets(path):\n",
    "    instruments = []\n",
    "    for i in os.listdir(path):\n",
    "        if i.find('equitys.csv')== -1:\n",
    "            continue\n",
    "        instruments.append(i[:i.find('_')])\n",
    "    dfs = []\n",
    "    for instrument in  instruments:\n",
    "        df = pd.read_csv(os.path.join(path, '%s_equitys.csv' % instrument), header=None, names=['timestamp', 'equitys', 'pnl', 'fee'])\n",
    "        df['instrument']  = instrument\n",
    "        dfs.append(df)\n",
    "    df = pd.concat(dfs)\n",
    "    equitys = df.groupby('instrument')['equitys'].last()\n",
    "    return equitys / 500000.0 - 1"
   ]
  },
  {
   "cell_type": "code",
   "execution_count": 5,
   "metadata": {
    "collapsed": true
   },
   "outputs": [],
   "source": [
    "def rtn_compare(benchmark,path):\n",
    "    df = pd.DataFrame([calc_instrument_rets(path),calc_instrument_rets(benchmark)], index=['backtest', 'benchmark']).T\n",
    "    df['change'] = df.backtest - df.benchmark\n",
    "    df = df.sort_values('change')\n",
    "    return df"
   ]
  },
  {
   "cell_type": "code",
   "execution_count": 11,
   "metadata": {
    "collapsed": true
   },
   "outputs": [],
   "source": [
    "#benchmark = 'C:/Users/Administrator/Desktop/Work/data/CTA_algo/backtesting/result0_0/'\n",
    "#path = 'C:/Users/Administrator/Desktop/Work/data/CTA_algo/backtesting/result0_0/'\n",
    "#instrument = 'fg709'"
   ]
  },
  {
   "cell_type": "markdown",
   "metadata": {},
   "source": [
    "计算每日收益"
   ]
  },
  {
   "cell_type": "code",
   "execution_count": 26,
   "metadata": {
    "collapsed": true,
    "scrolled": true
   },
   "outputs": [],
   "source": [
    "def calc_daily_rets(path):\n",
    "    instruments = []\n",
    "    for i in os.listdir(path):\n",
    "        if i.find('equitys.csv')== -1:\n",
    "            continue\n",
    "        instruments.append(i[:i.find('_')])\n",
    "    dfs = []\n",
    "    for instrument in  instruments:\n",
    "        df = pd.read_csv(os.path.join(path, '%s_equitys.csv' % instrument), header=None, names=['timestamp', 'equitys', 'pnl', 'fee'])\n",
    "        df['instrument']  = instrument\n",
    "        df['pnl_change'] = df.equitys - df.equitys.shift(1)\n",
    "        df.pnl_change = df.pnl_change.fillna(0)\n",
    "        dfs.append(df)\n",
    "    df = pd.concat(dfs)\n",
    "    df['datetime'] = (df.timestamp/1000.0).apply(datetime.utcfromtimestamp)  \n",
    "    pnl_changes = df.groupby(df.datetime.dt.date)['pnl_change'].sum()\n",
    "    cumsum_pnl_changes = pnl_changes.cumsum()\n",
    "    equitys = cumsum_pnl_changes + 500000\n",
    "    return (equitys/equitys.shift(+1) - 1)"
   ]
  },
  {
   "cell_type": "markdown",
   "metadata": {},
   "source": [
    "回测结果绘表"
   ]
  },
  {
   "cell_type": "code",
   "execution_count": 19,
   "metadata": {
    "collapsed": true,
    "scrolled": true
   },
   "outputs": [],
   "source": [
    "def result_pf(path,benchmark):   \n",
    "    rets = calc_daily_rets(path)\n",
    "    ben_rets = calc_daily_rets(benchmark)\n",
    "    pf.create_simple_tear_sheet(rets, benchmark_rets=ben_rets, live_start_date=None)"
   ]
  },
  {
   "cell_type": "markdown",
   "metadata": {},
   "source": [
    "计算一个品种每日收益"
   ]
  },
  {
   "cell_type": "code",
   "execution_count": 82,
   "metadata": {
    "collapsed": true
   },
   "outputs": [],
   "source": [
    "def calc_instrument_daily_ret(df):\n",
    "    df['date'] = (df.timestamp/1000.0).apply(datetime.utcfromtimestamp)\n",
    "    df.set_index('date', inplace=True)\n",
    "    return (df.equitys.shift(-1)/df.equitys - 1)"
   ]
  },
  {
   "cell_type": "markdown",
   "metadata": {},
   "source": [
    "返回一个品种的回测结果"
   ]
  },
  {
   "cell_type": "code",
   "execution_count": 1,
   "metadata": {
    "collapsed": true,
    "scrolled": true
   },
   "outputs": [],
   "source": [
    "def instrument_result_pf(instrument,path,benchmark,start_date):\n",
    "    df = pd.read_csv(os.path.join(path, '%s_equitys.csv' % instrument), header=None, names=['timestamp', 'equitys', 'pnl', 'fee'])\n",
    "    benchmark_df = pd.read_csv(os.path.join(benchmark, '%s_equitys.csv' % instrument), header=None, names=['timestamp', 'equitys', 'pnl', 'fee'])\n",
    "    rets = calc_instrument_daily_ret(df)\n",
    "    benchmark_rets = calc_instrument_daily_ret(benchmark_df)\n",
    "    pf.create_simple_tear_sheet(rets, benchmark_rets=benchmark_rets, live_start_date=start_date)"
   ]
  },
  {
   "cell_type": "markdown",
   "metadata": {},
   "source": [
    "返回所有回测结果里各品种的最大收益和基准收益做比较"
   ]
  },
  {
   "cell_type": "code",
   "execution_count": 9,
   "metadata": {
    "collapsed": true
   },
   "outputs": [],
   "source": [
    "def max_instrument_rtn(df,benchmark):\n",
    "    df=df.T\n",
    "    sr1 = df.max()\n",
    "    sss =  calc_instrument_rets(benchmark)\n",
    "    dfmax = pd.DataFrame([sr1,sss])\n",
    "    dfmax = dfmax.T\n",
    "    dfmax.columns = ['maxvalue','benchmark']\n",
    "    dfmax['diff'] = dfmax.maxvalue - dfmax.benchmark\n",
    "    return dfmax"
   ]
  },
  {
   "cell_type": "code",
   "execution_count": null,
   "metadata": {
    "scrolled": true
   },
   "outputs": [],
   "source": []
  },
  {
   "cell_type": "code",
   "execution_count": null,
   "metadata": {
    "scrolled": true
   },
   "outputs": [],
   "source": []
  },
  {
   "cell_type": "code",
   "execution_count": null,
   "metadata": {
    "collapsed": true
   },
   "outputs": [],
   "source": []
  }
 ],
 "metadata": {
  "kernelspec": {
   "display_name": "Python 3",
   "language": "python",
   "name": "python3"
  },
  "language_info": {
   "codemirror_mode": {
    "name": "ipython",
    "version": 3
   },
   "file_extension": ".py",
   "mimetype": "text/x-python",
   "name": "python",
   "nbconvert_exporter": "python",
   "pygments_lexer": "ipython3",
   "version": "3.6.1"
  }
 },
 "nbformat": 4,
 "nbformat_minor": 2
}
