{
 "cells": [
  {
   "cell_type": "code",
   "execution_count": 94,
   "metadata": {
    "collapsed": true
   },
   "outputs": [],
   "source": [
    "import QuantLib as ql\n",
    "import matplotlib.pyplot as plt"
   ]
  },
  {
   "cell_type": "code",
   "execution_count": 3,
   "metadata": {
    "collapsed": true
   },
   "outputs": [],
   "source": [
    "import pyfolio as pf"
   ]
  },
  {
   "cell_type": "code",
   "execution_count": 1,
   "metadata": {
    "collapsed": true
   },
   "outputs": [],
   "source": [
    "import tushare as ts"
   ]
  },
  {
   "cell_type": "code",
   "execution_count": 25,
   "metadata": {
    "collapsed": true,
    "scrolled": true
   },
   "outputs": [],
   "source": [
    "import pandas as pd"
   ]
  },
  {
   "cell_type": "markdown",
   "metadata": {},
   "source": [
    "获取沪深300成份股，保存为list"
   ]
  },
  {
   "cell_type": "code",
   "execution_count": 98,
   "metadata": {
    "scrolled": true
   },
   "outputs": [
    {
     "data": {
      "text/plain": [
       "['600000',\n",
       " '600016',\n",
       " '600028',\n",
       " '600029',\n",
       " '600030',\n",
       " '600036',\n",
       " '600048',\n",
       " '600050',\n",
       " '600100',\n",
       " '600104',\n",
       " '600111',\n",
       " '600340',\n",
       " '600485',\n",
       " '600518',\n",
       " '600519',\n",
       " '600547',\n",
       " '600606',\n",
       " '600837',\n",
       " '600887',\n",
       " '600919',\n",
       " '600958',\n",
       " '600999',\n",
       " '601006',\n",
       " '601088',\n",
       " '601166',\n",
       " '601169',\n",
       " '601186',\n",
       " '601198',\n",
       " '601211',\n",
       " '601229',\n",
       " '601288',\n",
       " '601318',\n",
       " '601328',\n",
       " '601336',\n",
       " '601390',\n",
       " '601398',\n",
       " '601601',\n",
       " '601628',\n",
       " '601668',\n",
       " '601688',\n",
       " '601766',\n",
       " '601788',\n",
       " '601800',\n",
       " '601818',\n",
       " '601857',\n",
       " '601881',\n",
       " '601901',\n",
       " '601985',\n",
       " '601988',\n",
       " '601989']"
      ]
     },
     "execution_count": 98,
     "metadata": {},
     "output_type": "execute_result"
    }
   ],
   "source": [
    "df50 = ts.get_sz50s()\n",
    "df50 = df50.sort_values('code')\n",
    "list50 =[]\n",
    "for i in df50.code:\n",
    "    list50.append(i)\n",
    "list50"
   ]
  },
  {
   "cell_type": "code",
   "execution_count": 99,
   "metadata": {},
   "outputs": [
    {
     "data": {
      "text/plain": [
       "50"
      ]
     },
     "execution_count": 99,
     "metadata": {},
     "output_type": "execute_result"
    }
   ],
   "source": [
    "len(list50)"
   ]
  },
  {
   "cell_type": "code",
   "execution_count": 100,
   "metadata": {
    "scrolled": true
   },
   "outputs": [
    {
     "data": {
      "text/html": [
       "<div>\n",
       "<style>\n",
       "    .dataframe thead tr:only-child th {\n",
       "        text-align: right;\n",
       "    }\n",
       "\n",
       "    .dataframe thead th {\n",
       "        text-align: left;\n",
       "    }\n",
       "\n",
       "    .dataframe tbody tr th {\n",
       "        vertical-align: top;\n",
       "    }\n",
       "</style>\n",
       "<table border=\"1\" class=\"dataframe\">\n",
       "  <thead>\n",
       "    <tr style=\"text-align: right;\">\n",
       "      <th></th>\n",
       "      <th>date</th>\n",
       "      <th>open</th>\n",
       "      <th>close</th>\n",
       "      <th>high</th>\n",
       "      <th>low</th>\n",
       "      <th>volume</th>\n",
       "      <th>code</th>\n",
       "    </tr>\n",
       "  </thead>\n",
       "  <tbody>\n",
       "    <tr>\n",
       "      <th>0</th>\n",
       "      <td>2016-01-04</td>\n",
       "      <td>9.912</td>\n",
       "      <td>8.961</td>\n",
       "      <td>9.931</td>\n",
       "      <td>8.933</td>\n",
       "      <td>997359.0</td>\n",
       "      <td>600048</td>\n",
       "    </tr>\n",
       "    <tr>\n",
       "      <th>1</th>\n",
       "      <td>2016-01-05</td>\n",
       "      <td>8.719</td>\n",
       "      <td>9.194</td>\n",
       "      <td>9.353</td>\n",
       "      <td>8.625</td>\n",
       "      <td>1475344.0</td>\n",
       "      <td>600048</td>\n",
       "    </tr>\n",
       "    <tr>\n",
       "      <th>2</th>\n",
       "      <td>2016-01-06</td>\n",
       "      <td>9.157</td>\n",
       "      <td>9.334</td>\n",
       "      <td>9.381</td>\n",
       "      <td>9.017</td>\n",
       "      <td>834873.0</td>\n",
       "      <td>600048</td>\n",
       "    </tr>\n",
       "    <tr>\n",
       "      <th>3</th>\n",
       "      <td>2016-01-07</td>\n",
       "      <td>9.204</td>\n",
       "      <td>8.458</td>\n",
       "      <td>9.204</td>\n",
       "      <td>8.420</td>\n",
       "      <td>197016.0</td>\n",
       "      <td>600048</td>\n",
       "    </tr>\n",
       "    <tr>\n",
       "      <th>4</th>\n",
       "      <td>2016-01-08</td>\n",
       "      <td>8.700</td>\n",
       "      <td>8.849</td>\n",
       "      <td>9.073</td>\n",
       "      <td>8.420</td>\n",
       "      <td>1365459.0</td>\n",
       "      <td>600048</td>\n",
       "    </tr>\n",
       "    <tr>\n",
       "      <th>5</th>\n",
       "      <td>2016-01-11</td>\n",
       "      <td>8.691</td>\n",
       "      <td>8.243</td>\n",
       "      <td>8.868</td>\n",
       "      <td>8.122</td>\n",
       "      <td>1109567.0</td>\n",
       "      <td>600048</td>\n",
       "    </tr>\n",
       "    <tr>\n",
       "      <th>6</th>\n",
       "      <td>2016-01-12</td>\n",
       "      <td>8.290</td>\n",
       "      <td>8.383</td>\n",
       "      <td>8.644</td>\n",
       "      <td>8.140</td>\n",
       "      <td>908442.0</td>\n",
       "      <td>600048</td>\n",
       "    </tr>\n",
       "    <tr>\n",
       "      <th>7</th>\n",
       "      <td>2016-01-13</td>\n",
       "      <td>8.411</td>\n",
       "      <td>8.271</td>\n",
       "      <td>8.719</td>\n",
       "      <td>8.206</td>\n",
       "      <td>834199.0</td>\n",
       "      <td>600048</td>\n",
       "    </tr>\n",
       "    <tr>\n",
       "      <th>8</th>\n",
       "      <td>2016-01-14</td>\n",
       "      <td>8.094</td>\n",
       "      <td>8.523</td>\n",
       "      <td>8.560</td>\n",
       "      <td>7.898</td>\n",
       "      <td>871819.0</td>\n",
       "      <td>600048</td>\n",
       "    </tr>\n",
       "    <tr>\n",
       "      <th>9</th>\n",
       "      <td>2016-01-15</td>\n",
       "      <td>8.411</td>\n",
       "      <td>8.010</td>\n",
       "      <td>8.476</td>\n",
       "      <td>7.907</td>\n",
       "      <td>932798.0</td>\n",
       "      <td>600048</td>\n",
       "    </tr>\n",
       "    <tr>\n",
       "      <th>10</th>\n",
       "      <td>2016-01-18</td>\n",
       "      <td>7.879</td>\n",
       "      <td>8.029</td>\n",
       "      <td>8.178</td>\n",
       "      <td>7.833</td>\n",
       "      <td>476750.0</td>\n",
       "      <td>600048</td>\n",
       "    </tr>\n",
       "    <tr>\n",
       "      <th>11</th>\n",
       "      <td>2016-01-19</td>\n",
       "      <td>8.038</td>\n",
       "      <td>8.728</td>\n",
       "      <td>8.831</td>\n",
       "      <td>7.973</td>\n",
       "      <td>1458332.0</td>\n",
       "      <td>600048</td>\n",
       "    </tr>\n",
       "    <tr>\n",
       "      <th>12</th>\n",
       "      <td>2016-01-20</td>\n",
       "      <td>8.588</td>\n",
       "      <td>8.346</td>\n",
       "      <td>8.719</td>\n",
       "      <td>8.271</td>\n",
       "      <td>975444.0</td>\n",
       "      <td>600048</td>\n",
       "    </tr>\n",
       "    <tr>\n",
       "      <th>13</th>\n",
       "      <td>2016-01-21</td>\n",
       "      <td>8.252</td>\n",
       "      <td>8.215</td>\n",
       "      <td>8.588</td>\n",
       "      <td>8.140</td>\n",
       "      <td>649063.0</td>\n",
       "      <td>600048</td>\n",
       "    </tr>\n",
       "    <tr>\n",
       "      <th>14</th>\n",
       "      <td>2016-01-22</td>\n",
       "      <td>8.299</td>\n",
       "      <td>8.402</td>\n",
       "      <td>8.467</td>\n",
       "      <td>8.206</td>\n",
       "      <td>570343.0</td>\n",
       "      <td>600048</td>\n",
       "    </tr>\n",
       "    <tr>\n",
       "      <th>15</th>\n",
       "      <td>2016-01-25</td>\n",
       "      <td>8.411</td>\n",
       "      <td>8.495</td>\n",
       "      <td>8.597</td>\n",
       "      <td>8.364</td>\n",
       "      <td>536430.0</td>\n",
       "      <td>600048</td>\n",
       "    </tr>\n",
       "    <tr>\n",
       "      <th>16</th>\n",
       "      <td>2016-01-26</td>\n",
       "      <td>8.402</td>\n",
       "      <td>7.945</td>\n",
       "      <td>8.672</td>\n",
       "      <td>7.842</td>\n",
       "      <td>867636.0</td>\n",
       "      <td>600048</td>\n",
       "    </tr>\n",
       "    <tr>\n",
       "      <th>17</th>\n",
       "      <td>2016-01-27</td>\n",
       "      <td>8.038</td>\n",
       "      <td>8.159</td>\n",
       "      <td>8.318</td>\n",
       "      <td>7.851</td>\n",
       "      <td>935531.0</td>\n",
       "      <td>600048</td>\n",
       "    </tr>\n",
       "    <tr>\n",
       "      <th>18</th>\n",
       "      <td>2016-01-28</td>\n",
       "      <td>8.075</td>\n",
       "      <td>7.805</td>\n",
       "      <td>8.271</td>\n",
       "      <td>7.777</td>\n",
       "      <td>617196.0</td>\n",
       "      <td>600048</td>\n",
       "    </tr>\n",
       "    <tr>\n",
       "      <th>19</th>\n",
       "      <td>2016-01-29</td>\n",
       "      <td>7.833</td>\n",
       "      <td>8.122</td>\n",
       "      <td>8.224</td>\n",
       "      <td>7.823</td>\n",
       "      <td>569227.0</td>\n",
       "      <td>600048</td>\n",
       "    </tr>\n",
       "    <tr>\n",
       "      <th>20</th>\n",
       "      <td>2016-02-01</td>\n",
       "      <td>8.140</td>\n",
       "      <td>8.019</td>\n",
       "      <td>8.196</td>\n",
       "      <td>7.805</td>\n",
       "      <td>464262.0</td>\n",
       "      <td>600048</td>\n",
       "    </tr>\n",
       "    <tr>\n",
       "      <th>21</th>\n",
       "      <td>2016-02-02</td>\n",
       "      <td>8.019</td>\n",
       "      <td>8.430</td>\n",
       "      <td>8.616</td>\n",
       "      <td>7.973</td>\n",
       "      <td>925311.0</td>\n",
       "      <td>600048</td>\n",
       "    </tr>\n",
       "    <tr>\n",
       "      <th>22</th>\n",
       "      <td>2016-02-03</td>\n",
       "      <td>8.458</td>\n",
       "      <td>8.523</td>\n",
       "      <td>8.747</td>\n",
       "      <td>8.280</td>\n",
       "      <td>1290089.0</td>\n",
       "      <td>600048</td>\n",
       "    </tr>\n",
       "    <tr>\n",
       "      <th>23</th>\n",
       "      <td>2016-02-04</td>\n",
       "      <td>8.448</td>\n",
       "      <td>8.467</td>\n",
       "      <td>8.579</td>\n",
       "      <td>8.355</td>\n",
       "      <td>965402.0</td>\n",
       "      <td>600048</td>\n",
       "    </tr>\n",
       "    <tr>\n",
       "      <th>24</th>\n",
       "      <td>2016-02-05</td>\n",
       "      <td>8.513</td>\n",
       "      <td>8.392</td>\n",
       "      <td>8.551</td>\n",
       "      <td>8.383</td>\n",
       "      <td>554373.0</td>\n",
       "      <td>600048</td>\n",
       "    </tr>\n",
       "    <tr>\n",
       "      <th>25</th>\n",
       "      <td>2016-02-15</td>\n",
       "      <td>8.113</td>\n",
       "      <td>8.215</td>\n",
       "      <td>8.271</td>\n",
       "      <td>8.057</td>\n",
       "      <td>766791.0</td>\n",
       "      <td>600048</td>\n",
       "    </tr>\n",
       "    <tr>\n",
       "      <th>26</th>\n",
       "      <td>2016-02-16</td>\n",
       "      <td>8.262</td>\n",
       "      <td>8.439</td>\n",
       "      <td>8.495</td>\n",
       "      <td>8.206</td>\n",
       "      <td>740476.0</td>\n",
       "      <td>600048</td>\n",
       "    </tr>\n",
       "    <tr>\n",
       "      <th>27</th>\n",
       "      <td>2016-02-17</td>\n",
       "      <td>8.420</td>\n",
       "      <td>8.467</td>\n",
       "      <td>8.467</td>\n",
       "      <td>8.299</td>\n",
       "      <td>975842.0</td>\n",
       "      <td>600048</td>\n",
       "    </tr>\n",
       "    <tr>\n",
       "      <th>28</th>\n",
       "      <td>2016-02-18</td>\n",
       "      <td>8.532</td>\n",
       "      <td>8.579</td>\n",
       "      <td>8.840</td>\n",
       "      <td>8.458</td>\n",
       "      <td>1097629.0</td>\n",
       "      <td>600048</td>\n",
       "    </tr>\n",
       "    <tr>\n",
       "      <th>29</th>\n",
       "      <td>2016-02-19</td>\n",
       "      <td>8.523</td>\n",
       "      <td>8.439</td>\n",
       "      <td>8.588</td>\n",
       "      <td>8.336</td>\n",
       "      <td>713906.0</td>\n",
       "      <td>600048</td>\n",
       "    </tr>\n",
       "    <tr>\n",
       "      <th>...</th>\n",
       "      <td>...</td>\n",
       "      <td>...</td>\n",
       "      <td>...</td>\n",
       "      <td>...</td>\n",
       "      <td>...</td>\n",
       "      <td>...</td>\n",
       "      <td>...</td>\n",
       "    </tr>\n",
       "    <tr>\n",
       "      <th>412</th>\n",
       "      <td>2017-09-19</td>\n",
       "      <td>11.510</td>\n",
       "      <td>11.590</td>\n",
       "      <td>12.010</td>\n",
       "      <td>11.460</td>\n",
       "      <td>1824444.0</td>\n",
       "      <td>600048</td>\n",
       "    </tr>\n",
       "    <tr>\n",
       "      <th>413</th>\n",
       "      <td>2017-09-20</td>\n",
       "      <td>11.580</td>\n",
       "      <td>11.290</td>\n",
       "      <td>11.630</td>\n",
       "      <td>11.260</td>\n",
       "      <td>1233089.0</td>\n",
       "      <td>600048</td>\n",
       "    </tr>\n",
       "    <tr>\n",
       "      <th>414</th>\n",
       "      <td>2017-09-21</td>\n",
       "      <td>11.330</td>\n",
       "      <td>11.330</td>\n",
       "      <td>11.490</td>\n",
       "      <td>11.250</td>\n",
       "      <td>904678.0</td>\n",
       "      <td>600048</td>\n",
       "    </tr>\n",
       "    <tr>\n",
       "      <th>415</th>\n",
       "      <td>2017-09-22</td>\n",
       "      <td>11.320</td>\n",
       "      <td>11.310</td>\n",
       "      <td>11.530</td>\n",
       "      <td>11.210</td>\n",
       "      <td>660406.0</td>\n",
       "      <td>600048</td>\n",
       "    </tr>\n",
       "    <tr>\n",
       "      <th>416</th>\n",
       "      <td>2017-09-25</td>\n",
       "      <td>11.010</td>\n",
       "      <td>10.570</td>\n",
       "      <td>11.030</td>\n",
       "      <td>10.530</td>\n",
       "      <td>1586831.0</td>\n",
       "      <td>600048</td>\n",
       "    </tr>\n",
       "    <tr>\n",
       "      <th>417</th>\n",
       "      <td>2017-09-26</td>\n",
       "      <td>10.590</td>\n",
       "      <td>10.650</td>\n",
       "      <td>10.790</td>\n",
       "      <td>10.540</td>\n",
       "      <td>538439.0</td>\n",
       "      <td>600048</td>\n",
       "    </tr>\n",
       "    <tr>\n",
       "      <th>418</th>\n",
       "      <td>2017-09-27</td>\n",
       "      <td>10.710</td>\n",
       "      <td>10.770</td>\n",
       "      <td>10.780</td>\n",
       "      <td>10.580</td>\n",
       "      <td>477418.0</td>\n",
       "      <td>600048</td>\n",
       "    </tr>\n",
       "    <tr>\n",
       "      <th>419</th>\n",
       "      <td>2017-09-28</td>\n",
       "      <td>10.770</td>\n",
       "      <td>10.440</td>\n",
       "      <td>10.790</td>\n",
       "      <td>10.410</td>\n",
       "      <td>835400.0</td>\n",
       "      <td>600048</td>\n",
       "    </tr>\n",
       "    <tr>\n",
       "      <th>420</th>\n",
       "      <td>2017-09-29</td>\n",
       "      <td>10.480</td>\n",
       "      <td>10.400</td>\n",
       "      <td>10.530</td>\n",
       "      <td>10.330</td>\n",
       "      <td>501572.0</td>\n",
       "      <td>600048</td>\n",
       "    </tr>\n",
       "    <tr>\n",
       "      <th>421</th>\n",
       "      <td>2017-10-09</td>\n",
       "      <td>10.700</td>\n",
       "      <td>10.540</td>\n",
       "      <td>10.820</td>\n",
       "      <td>10.520</td>\n",
       "      <td>1109989.0</td>\n",
       "      <td>600048</td>\n",
       "    </tr>\n",
       "    <tr>\n",
       "      <th>422</th>\n",
       "      <td>2017-10-10</td>\n",
       "      <td>10.590</td>\n",
       "      <td>10.460</td>\n",
       "      <td>10.630</td>\n",
       "      <td>10.400</td>\n",
       "      <td>779299.0</td>\n",
       "      <td>600048</td>\n",
       "    </tr>\n",
       "    <tr>\n",
       "      <th>423</th>\n",
       "      <td>2017-10-11</td>\n",
       "      <td>10.490</td>\n",
       "      <td>10.440</td>\n",
       "      <td>10.590</td>\n",
       "      <td>10.370</td>\n",
       "      <td>747032.0</td>\n",
       "      <td>600048</td>\n",
       "    </tr>\n",
       "    <tr>\n",
       "      <th>424</th>\n",
       "      <td>2017-10-12</td>\n",
       "      <td>10.450</td>\n",
       "      <td>10.320</td>\n",
       "      <td>10.450</td>\n",
       "      <td>10.230</td>\n",
       "      <td>784082.0</td>\n",
       "      <td>600048</td>\n",
       "    </tr>\n",
       "    <tr>\n",
       "      <th>425</th>\n",
       "      <td>2017-10-13</td>\n",
       "      <td>10.320</td>\n",
       "      <td>10.270</td>\n",
       "      <td>10.380</td>\n",
       "      <td>10.240</td>\n",
       "      <td>656982.0</td>\n",
       "      <td>600048</td>\n",
       "    </tr>\n",
       "    <tr>\n",
       "      <th>426</th>\n",
       "      <td>2017-10-16</td>\n",
       "      <td>10.310</td>\n",
       "      <td>10.180</td>\n",
       "      <td>10.340</td>\n",
       "      <td>10.170</td>\n",
       "      <td>575364.0</td>\n",
       "      <td>600048</td>\n",
       "    </tr>\n",
       "    <tr>\n",
       "      <th>427</th>\n",
       "      <td>2017-10-17</td>\n",
       "      <td>10.170</td>\n",
       "      <td>10.220</td>\n",
       "      <td>10.250</td>\n",
       "      <td>10.140</td>\n",
       "      <td>400655.0</td>\n",
       "      <td>600048</td>\n",
       "    </tr>\n",
       "    <tr>\n",
       "      <th>428</th>\n",
       "      <td>2017-10-18</td>\n",
       "      <td>10.220</td>\n",
       "      <td>10.250</td>\n",
       "      <td>10.270</td>\n",
       "      <td>10.180</td>\n",
       "      <td>412372.0</td>\n",
       "      <td>600048</td>\n",
       "    </tr>\n",
       "    <tr>\n",
       "      <th>429</th>\n",
       "      <td>2017-10-19</td>\n",
       "      <td>10.260</td>\n",
       "      <td>10.260</td>\n",
       "      <td>10.360</td>\n",
       "      <td>10.200</td>\n",
       "      <td>572950.0</td>\n",
       "      <td>600048</td>\n",
       "    </tr>\n",
       "    <tr>\n",
       "      <th>430</th>\n",
       "      <td>2017-10-20</td>\n",
       "      <td>10.270</td>\n",
       "      <td>10.370</td>\n",
       "      <td>10.370</td>\n",
       "      <td>10.220</td>\n",
       "      <td>413278.0</td>\n",
       "      <td>600048</td>\n",
       "    </tr>\n",
       "    <tr>\n",
       "      <th>431</th>\n",
       "      <td>2017-10-23</td>\n",
       "      <td>10.370</td>\n",
       "      <td>10.490</td>\n",
       "      <td>10.540</td>\n",
       "      <td>10.310</td>\n",
       "      <td>677982.0</td>\n",
       "      <td>600048</td>\n",
       "    </tr>\n",
       "    <tr>\n",
       "      <th>432</th>\n",
       "      <td>2017-10-24</td>\n",
       "      <td>10.650</td>\n",
       "      <td>10.800</td>\n",
       "      <td>10.890</td>\n",
       "      <td>10.530</td>\n",
       "      <td>1273236.0</td>\n",
       "      <td>600048</td>\n",
       "    </tr>\n",
       "    <tr>\n",
       "      <th>433</th>\n",
       "      <td>2017-10-25</td>\n",
       "      <td>10.830</td>\n",
       "      <td>10.860</td>\n",
       "      <td>11.150</td>\n",
       "      <td>10.800</td>\n",
       "      <td>976386.0</td>\n",
       "      <td>600048</td>\n",
       "    </tr>\n",
       "    <tr>\n",
       "      <th>434</th>\n",
       "      <td>2017-10-26</td>\n",
       "      <td>10.810</td>\n",
       "      <td>10.640</td>\n",
       "      <td>10.950</td>\n",
       "      <td>10.560</td>\n",
       "      <td>1173307.0</td>\n",
       "      <td>600048</td>\n",
       "    </tr>\n",
       "    <tr>\n",
       "      <th>435</th>\n",
       "      <td>2017-10-27</td>\n",
       "      <td>10.700</td>\n",
       "      <td>10.640</td>\n",
       "      <td>10.920</td>\n",
       "      <td>10.510</td>\n",
       "      <td>1294170.0</td>\n",
       "      <td>600048</td>\n",
       "    </tr>\n",
       "    <tr>\n",
       "      <th>436</th>\n",
       "      <td>2017-10-30</td>\n",
       "      <td>10.620</td>\n",
       "      <td>10.770</td>\n",
       "      <td>10.780</td>\n",
       "      <td>10.530</td>\n",
       "      <td>1268822.0</td>\n",
       "      <td>600048</td>\n",
       "    </tr>\n",
       "    <tr>\n",
       "      <th>437</th>\n",
       "      <td>2017-10-31</td>\n",
       "      <td>10.790</td>\n",
       "      <td>10.890</td>\n",
       "      <td>10.920</td>\n",
       "      <td>10.670</td>\n",
       "      <td>970244.0</td>\n",
       "      <td>600048</td>\n",
       "    </tr>\n",
       "    <tr>\n",
       "      <th>438</th>\n",
       "      <td>2017-11-01</td>\n",
       "      <td>10.910</td>\n",
       "      <td>10.770</td>\n",
       "      <td>11.210</td>\n",
       "      <td>10.710</td>\n",
       "      <td>1738450.0</td>\n",
       "      <td>600048</td>\n",
       "    </tr>\n",
       "    <tr>\n",
       "      <th>439</th>\n",
       "      <td>2017-11-02</td>\n",
       "      <td>10.700</td>\n",
       "      <td>10.830</td>\n",
       "      <td>10.890</td>\n",
       "      <td>10.650</td>\n",
       "      <td>835856.0</td>\n",
       "      <td>600048</td>\n",
       "    </tr>\n",
       "    <tr>\n",
       "      <th>440</th>\n",
       "      <td>2017-11-03</td>\n",
       "      <td>10.800</td>\n",
       "      <td>10.660</td>\n",
       "      <td>10.830</td>\n",
       "      <td>10.430</td>\n",
       "      <td>998392.0</td>\n",
       "      <td>600048</td>\n",
       "    </tr>\n",
       "    <tr>\n",
       "      <th>441</th>\n",
       "      <td>2017-11-06</td>\n",
       "      <td>10.580</td>\n",
       "      <td>10.380</td>\n",
       "      <td>10.640</td>\n",
       "      <td>10.280</td>\n",
       "      <td>822979.0</td>\n",
       "      <td>600048</td>\n",
       "    </tr>\n",
       "  </tbody>\n",
       "</table>\n",
       "<p>442 rows × 7 columns</p>\n",
       "</div>"
      ],
      "text/plain": [
       "           date    open   close    high     low     volume    code\n",
       "0    2016-01-04   9.912   8.961   9.931   8.933   997359.0  600048\n",
       "1    2016-01-05   8.719   9.194   9.353   8.625  1475344.0  600048\n",
       "2    2016-01-06   9.157   9.334   9.381   9.017   834873.0  600048\n",
       "3    2016-01-07   9.204   8.458   9.204   8.420   197016.0  600048\n",
       "4    2016-01-08   8.700   8.849   9.073   8.420  1365459.0  600048\n",
       "5    2016-01-11   8.691   8.243   8.868   8.122  1109567.0  600048\n",
       "6    2016-01-12   8.290   8.383   8.644   8.140   908442.0  600048\n",
       "7    2016-01-13   8.411   8.271   8.719   8.206   834199.0  600048\n",
       "8    2016-01-14   8.094   8.523   8.560   7.898   871819.0  600048\n",
       "9    2016-01-15   8.411   8.010   8.476   7.907   932798.0  600048\n",
       "10   2016-01-18   7.879   8.029   8.178   7.833   476750.0  600048\n",
       "11   2016-01-19   8.038   8.728   8.831   7.973  1458332.0  600048\n",
       "12   2016-01-20   8.588   8.346   8.719   8.271   975444.0  600048\n",
       "13   2016-01-21   8.252   8.215   8.588   8.140   649063.0  600048\n",
       "14   2016-01-22   8.299   8.402   8.467   8.206   570343.0  600048\n",
       "15   2016-01-25   8.411   8.495   8.597   8.364   536430.0  600048\n",
       "16   2016-01-26   8.402   7.945   8.672   7.842   867636.0  600048\n",
       "17   2016-01-27   8.038   8.159   8.318   7.851   935531.0  600048\n",
       "18   2016-01-28   8.075   7.805   8.271   7.777   617196.0  600048\n",
       "19   2016-01-29   7.833   8.122   8.224   7.823   569227.0  600048\n",
       "20   2016-02-01   8.140   8.019   8.196   7.805   464262.0  600048\n",
       "21   2016-02-02   8.019   8.430   8.616   7.973   925311.0  600048\n",
       "22   2016-02-03   8.458   8.523   8.747   8.280  1290089.0  600048\n",
       "23   2016-02-04   8.448   8.467   8.579   8.355   965402.0  600048\n",
       "24   2016-02-05   8.513   8.392   8.551   8.383   554373.0  600048\n",
       "25   2016-02-15   8.113   8.215   8.271   8.057   766791.0  600048\n",
       "26   2016-02-16   8.262   8.439   8.495   8.206   740476.0  600048\n",
       "27   2016-02-17   8.420   8.467   8.467   8.299   975842.0  600048\n",
       "28   2016-02-18   8.532   8.579   8.840   8.458  1097629.0  600048\n",
       "29   2016-02-19   8.523   8.439   8.588   8.336   713906.0  600048\n",
       "..          ...     ...     ...     ...     ...        ...     ...\n",
       "412  2017-09-19  11.510  11.590  12.010  11.460  1824444.0  600048\n",
       "413  2017-09-20  11.580  11.290  11.630  11.260  1233089.0  600048\n",
       "414  2017-09-21  11.330  11.330  11.490  11.250   904678.0  600048\n",
       "415  2017-09-22  11.320  11.310  11.530  11.210   660406.0  600048\n",
       "416  2017-09-25  11.010  10.570  11.030  10.530  1586831.0  600048\n",
       "417  2017-09-26  10.590  10.650  10.790  10.540   538439.0  600048\n",
       "418  2017-09-27  10.710  10.770  10.780  10.580   477418.0  600048\n",
       "419  2017-09-28  10.770  10.440  10.790  10.410   835400.0  600048\n",
       "420  2017-09-29  10.480  10.400  10.530  10.330   501572.0  600048\n",
       "421  2017-10-09  10.700  10.540  10.820  10.520  1109989.0  600048\n",
       "422  2017-10-10  10.590  10.460  10.630  10.400   779299.0  600048\n",
       "423  2017-10-11  10.490  10.440  10.590  10.370   747032.0  600048\n",
       "424  2017-10-12  10.450  10.320  10.450  10.230   784082.0  600048\n",
       "425  2017-10-13  10.320  10.270  10.380  10.240   656982.0  600048\n",
       "426  2017-10-16  10.310  10.180  10.340  10.170   575364.0  600048\n",
       "427  2017-10-17  10.170  10.220  10.250  10.140   400655.0  600048\n",
       "428  2017-10-18  10.220  10.250  10.270  10.180   412372.0  600048\n",
       "429  2017-10-19  10.260  10.260  10.360  10.200   572950.0  600048\n",
       "430  2017-10-20  10.270  10.370  10.370  10.220   413278.0  600048\n",
       "431  2017-10-23  10.370  10.490  10.540  10.310   677982.0  600048\n",
       "432  2017-10-24  10.650  10.800  10.890  10.530  1273236.0  600048\n",
       "433  2017-10-25  10.830  10.860  11.150  10.800   976386.0  600048\n",
       "434  2017-10-26  10.810  10.640  10.950  10.560  1173307.0  600048\n",
       "435  2017-10-27  10.700  10.640  10.920  10.510  1294170.0  600048\n",
       "436  2017-10-30  10.620  10.770  10.780  10.530  1268822.0  600048\n",
       "437  2017-10-31  10.790  10.890  10.920  10.670   970244.0  600048\n",
       "438  2017-11-01  10.910  10.770  11.210  10.710  1738450.0  600048\n",
       "439  2017-11-02  10.700  10.830  10.890  10.650   835856.0  600048\n",
       "440  2017-11-03  10.800  10.660  10.830  10.430   998392.0  600048\n",
       "441  2017-11-06  10.580  10.380  10.640  10.280   822979.0  600048\n",
       "\n",
       "[442 rows x 7 columns]"
      ]
     },
     "execution_count": 100,
     "metadata": {},
     "output_type": "execute_result"
    }
   ],
   "source": [
    "ts.get_k_data(list50[6], ktype='D', autype='qfq', start='2016-01-01',end='2017-11-06')"
   ]
  },
  {
   "cell_type": "code",
   "execution_count": 101,
   "metadata": {
    "scrolled": true
   },
   "outputs": [
    {
     "data": {
      "text/plain": [
       "['600016',\n",
       " '600028',\n",
       " '600030',\n",
       " '600036',\n",
       " '600104',\n",
       " '600111',\n",
       " '600519',\n",
       " '600606',\n",
       " '600837',\n",
       " '600999',\n",
       " '601006',\n",
       " '601186',\n",
       " '601198',\n",
       " '601211',\n",
       " '601288',\n",
       " '601318',\n",
       " '601328',\n",
       " '601336',\n",
       " '601390',\n",
       " '601398',\n",
       " '601601',\n",
       " '601628',\n",
       " '601668',\n",
       " '601688',\n",
       " '601788',\n",
       " '601800',\n",
       " '601857',\n",
       " '601985',\n",
       " '601988']"
      ]
     },
     "execution_count": 101,
     "metadata": {},
     "output_type": "execute_result"
    }
   ],
   "source": [
    "dataset =[]\n",
    "stock = []\n",
    "for i in list50:\n",
    "    df = ts.get_k_data(i, ktype='D', autype='qfq', start='2016-01-01',end='2017-11-06')\n",
    "    df.index = df.date\n",
    "    df.drop('date',axis=1,inplace=True)\n",
    "    df.drop('open',axis=1,inplace=True)\n",
    "    df.drop('high',axis=1,inplace=True)\n",
    "    df.drop('low',axis=1,inplace=True)\n",
    "    df.drop('volume',axis=1,inplace=True)\n",
    "    df.drop('code',axis=1,inplace=True)\n",
    "    if len(df) ==449:\n",
    "        stock.append(i)\n",
    "        dataset.append(df)\n",
    "stock"
   ]
  },
  {
   "cell_type": "code",
   "execution_count": 102,
   "metadata": {
    "scrolled": true
   },
   "outputs": [
    {
     "data": {
      "text/plain": [
       "29"
      ]
     },
     "execution_count": 102,
     "metadata": {},
     "output_type": "execute_result"
    }
   ],
   "source": [
    "len(stock)"
   ]
  },
  {
   "cell_type": "code",
   "execution_count": 103,
   "metadata": {
    "scrolled": true
   },
   "outputs": [],
   "source": [
    "for i in range(len(dataset)):\n",
    "    m = stock[i]\n",
    "    dataset[i].to_csv('%s.csv'%m)"
   ]
  },
  {
   "cell_type": "code",
   "execution_count": 34,
   "metadata": {
    "scrolled": true
   },
   "outputs": [
    {
     "ename": "IndexError",
     "evalue": "list index out of range",
     "output_type": "error",
     "traceback": [
      "\u001b[1;31m---------------------------------------------------------------------------\u001b[0m",
      "\u001b[1;31mIndexError\u001b[0m                                Traceback (most recent call last)",
      "\u001b[1;32m<ipython-input-34-6963ca1a74b5>\u001b[0m in \u001b[0;36m<module>\u001b[1;34m()\u001b[0m\n\u001b[1;32m----> 1\u001b[1;33m \u001b[0mlen\u001b[0m\u001b[1;33m(\u001b[0m\u001b[0mdataset\u001b[0m\u001b[1;33m[\u001b[0m\u001b[1;36m0\u001b[0m\u001b[1;33m]\u001b[0m\u001b[1;33m)\u001b[0m\u001b[1;33m\u001b[0m\u001b[0m\n\u001b[0m",
      "\u001b[1;31mIndexError\u001b[0m: list index out of range"
     ]
    }
   ],
   "source": [
    "len(dataset[0])"
   ]
  },
  {
   "cell_type": "code",
   "execution_count": 26,
   "metadata": {},
   "outputs": [
    {
     "name": "stdout",
     "output_type": "stream",
     "text": [
      "November 8th, 2017\n"
     ]
    }
   ],
   "source": [
    "date = ql.Date(8,11,2017)\n",
    "print (date)"
   ]
  },
  {
   "cell_type": "code",
   "execution_count": 27,
   "metadata": {},
   "outputs": [
    {
     "data": {
      "text/plain": [
       "312"
      ]
     },
     "execution_count": 27,
     "metadata": {},
     "output_type": "execute_result"
    }
   ],
   "source": [
    "date.dayOfYear()"
   ]
  },
  {
   "cell_type": "code",
   "execution_count": 30,
   "metadata": {},
   "outputs": [
    {
     "data": {
      "text/plain": [
       "False"
      ]
     },
     "execution_count": 30,
     "metadata": {},
     "output_type": "execute_result"
    }
   ],
   "source": [
    "date.weekday()==ql.Tuesday"
   ]
  },
  {
   "cell_type": "code",
   "execution_count": 34,
   "metadata": {},
   "outputs": [
    {
     "data": {
      "text/plain": [
       "4"
      ]
     },
     "execution_count": 34,
     "metadata": {},
     "output_type": "execute_result"
    }
   ],
   "source": [
    "date.weekday()"
   ]
  },
  {
   "cell_type": "code",
   "execution_count": 35,
   "metadata": {},
   "outputs": [
    {
     "data": {
      "text/plain": [
       "Date(9,11,2017)"
      ]
     },
     "execution_count": 35,
     "metadata": {},
     "output_type": "execute_result"
    }
   ],
   "source": [
    "date+1"
   ]
  },
  {
   "cell_type": "code",
   "execution_count": 41,
   "metadata": {},
   "outputs": [
    {
     "data": {
      "text/plain": [
       "Date(8,12,2017)"
      ]
     },
     "execution_count": 41,
     "metadata": {},
     "output_type": "execute_result"
    }
   ],
   "source": [
    "date + ql.Period(1, ql.Months)"
   ]
  },
  {
   "cell_type": "code",
   "execution_count": 43,
   "metadata": {},
   "outputs": [
    {
     "data": {
      "text/plain": [
       "Date(15,11,2017)"
      ]
     },
     "execution_count": 43,
     "metadata": {},
     "output_type": "execute_result"
    }
   ],
   "source": [
    "date +ql.Period(1, ql.Weeks)"
   ]
  },
  {
   "cell_type": "code",
   "execution_count": 47,
   "metadata": {},
   "outputs": [
    {
     "data": {
      "text/plain": [
       "False"
      ]
     },
     "execution_count": 47,
     "metadata": {},
     "output_type": "execute_result"
    }
   ],
   "source": [
    "ql.Date(31,10,2017) == ql.Date(3,11,2017)"
   ]
  },
  {
   "cell_type": "code",
   "execution_count": 59,
   "metadata": {
    "collapsed": true
   },
   "outputs": [],
   "source": [
    "date1 = ql.Date(1,5,2017)\n",
    "date2 = ql.Date(1,9,2017)"
   ]
  },
  {
   "cell_type": "code",
   "execution_count": 60,
   "metadata": {
    "collapsed": true
   },
   "outputs": [],
   "source": [
    "tenor = ql.Period(ql.Monthly)\n",
    "calendar = ql.China()\n",
    "schedule = ql.Schedule(date1, date2, tenor, calendar, ql.Following, \n",
    "                       ql.Following, ql.DateGeneration.Forward, False)"
   ]
  },
  {
   "cell_type": "code",
   "execution_count": 61,
   "metadata": {},
   "outputs": [
    {
     "data": {
      "text/plain": [
       "[Date(2,5,2017),\n",
       " Date(1,6,2017),\n",
       " Date(3,7,2017),\n",
       " Date(1,8,2017),\n",
       " Date(1,9,2017)]"
      ]
     },
     "execution_count": 61,
     "metadata": {},
     "output_type": "execute_result"
    }
   ],
   "source": [
    "list(schedule)"
   ]
  },
  {
   "cell_type": "code",
   "execution_count": 87,
   "metadata": {},
   "outputs": [],
   "source": [
    "annualRate = 0.10\n",
    "dayCount = ql.ActualActual()\n",
    "compoundType = ql.Compounded\n",
    "frequency = ql.Annual\n",
    "interesRate = ql.InterestRate(annualRate, dayCount, compoundType, frequency)"
   ]
  },
  {
   "cell_type": "code",
   "execution_count": 92,
   "metadata": {},
   "outputs": [
    {
     "data": {
      "text/plain": [
       "4.177248169415656"
      ]
     },
     "execution_count": 92,
     "metadata": {},
     "output_type": "execute_result"
    }
   ],
   "source": [
    "interesRate.compoundFactor(15.0)"
   ]
  },
  {
   "cell_type": "code",
   "execution_count": 85,
   "metadata": {},
   "outputs": [
    {
     "data": {
      "text/plain": [
       "0.6139132535407591"
      ]
     },
     "execution_count": 85,
     "metadata": {},
     "output_type": "execute_result"
    }
   ],
   "source": [
    "interesRate.discountFactor(10)"
   ]
  },
  {
   "cell_type": "code",
   "execution_count": 96,
   "metadata": {
    "collapsed": true
   },
   "outputs": [],
   "source": [
    "maturity_date =ql.Date(11, 8, 2017)\n",
    "spot_price = 9.37\n",
    "strike_price = 10.00\n",
    "volatility =0.20\n",
    "risk_free_rate = 0.001\n",
    "dividend_rate = 0.01\n",
    "option_type = ql.Option.Call"
   ]
  },
  {
   "cell_type": "code",
   "execution_count": 97,
   "metadata": {
    "collapsed": true
   },
   "outputs": [],
   "source": [
    "day_count = ql.Actual365Fixed()\n",
    "calendar = ql.UnitedStates()\n",
    "calculation_date = ql.Date(11,5,2017)\n",
    "ql.Settings.instance().evaluationDate = calculation_date"
   ]
  },
  {
   "cell_type": "code",
   "execution_count": 106,
   "metadata": {},
   "outputs": [],
   "source": [
    "payoff = ql.PlainVanillaPayoff(option_type, strike_price)\n",
    "exercise = ql.EuropeanExercise(maturity_date)\n",
    "european_option = ql.VanillaOption(payoff, exercise)\n",
    "spot_handle = ql.QuoteHandle(  \n",
    "    ql.SimpleQuote(spot_price)  \n",
    ")  \n",
    "flat_ts = ql.YieldTermStructureHandle(  \n",
    "    ql.FlatForward(calculation_date, risk_free_rate, day_count)  \n",
    ")  \n",
    "dividend_yield = ql.YieldTermStructureHandle(  \n",
    "    ql.FlatForward(calculation_date, dividend_rate, day_count)  \n",
    ")  \n",
    "flat_vol_ts = ql.BlackVolTermStructureHandle(  \n",
    "    ql.BlackConstantVol(calculation_date, calendar, volatility, day_count)  \n",
    ")  \n",
    "bsm_process = ql.BlackScholesMertonProcess(spot_handle,  \n",
    "                                           dividend_yield,  \n",
    "                                           flat_ts,  \n",
    "                                           flat_vol_ts)  "
   ]
  },
  {
   "cell_type": "code",
   "execution_count": 111,
   "metadata": {},
   "outputs": [
    {
     "name": "stdout",
     "output_type": "stream",
     "text": [
      "The theoretical price is  0.1456012342250512\n"
     ]
    }
   ],
   "source": [
    "european_option.setPricingEngine(ql.AnalyticEuropeanEngine(bsm_process))  \n",
    "bs_price = european_option.NPV()  \n",
    "print (\"The theoretical price is \", bs_price  )"
   ]
  },
  {
   "cell_type": "code",
   "execution_count": null,
   "metadata": {
    "collapsed": true
   },
   "outputs": [],
   "source": []
  }
 ],
 "metadata": {
  "kernelspec": {
   "display_name": "Python 3",
   "language": "python",
   "name": "python3"
  },
  "language_info": {
   "codemirror_mode": {
    "name": "ipython",
    "version": 3
   },
   "file_extension": ".py",
   "mimetype": "text/x-python",
   "name": "python",
   "nbconvert_exporter": "python",
   "pygments_lexer": "ipython3",
   "version": "3.6.1"
  }
 },
 "nbformat": 4,
 "nbformat_minor": 2
}
