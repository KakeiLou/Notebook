{
 "cells": [
  {
   "cell_type": "code",
   "execution_count": 58,
   "metadata": {
    "collapsed": true
   },
   "outputs": [],
   "source": [
    "import pandas as pd\n",
    "from datetime import datetime\n",
    "from dateutil.relativedelta import relativedelta\n",
    "df = pd.read_hdf('C:/Users/Administrator/Desktop/Work/Projects/Autocall/new_HS300.h5')\n",
    "dft = df['2017-03-15' : '2017-04-15']\n",
    "\n",
    "def get_obs_days(dt):\n",
    "    dt = pd.to_datetime(dt)\n",
    "    a = dt + relativedelta(months=1)\n",
    "    b = dt + relativedelta(months=2)\n",
    "    c = dt + relativedelta(months=3)\n",
    "    d = dt + relativedelta(months=4)\n",
    "    e = dt + relativedelta(months=5)\n",
    "    f = dt + relativedelta(months=6)\n",
    "    g = dt + relativedelta(months=7)\n",
    "    l = [a,b,c,d,e,f,g]\n",
    "    return l\n",
    "\n",
    "def split_df(df,dt):\n",
    "    dt = pd.to_datetime(dt)\n",
    "    l = get_obs_days(dt)\n",
    "    df1 = df[dt:l[0]] \n",
    "    df2 = df[l[0]:l[1]]\n",
    "    df3 = df[l[1]:l[2]]\n",
    "    df4 = df[l[2]:l[3]]\n",
    "    df5 = df[l[3]:l[4]]\n",
    "    df6 = df[l[4]:l[5]]\n",
    "    df7 = df[l[5]:l[6]]\n",
    "    list = [df1,df2,df3,df4,df5,df6,df7]\n",
    "    return list"
   ]
  },
  {
   "cell_type": "code",
   "execution_count": 41,
   "metadata": {
    "scrolled": true
   },
   "outputs": [
    {
     "data": {
      "text/plain": [
       "[               close\n",
       " date                \n",
       " 2017-03-15  3463.644\n",
       " 2017-03-16  3481.507\n",
       " 2017-03-17  3445.805\n",
       " 2017-03-20  3449.613\n",
       " 2017-03-21  3466.347\n",
       " 2017-03-22  3450.050\n",
       " 2017-03-23  3461.978\n",
       " 2017-03-24  3489.600\n",
       " 2017-03-27  3478.039\n",
       " 2017-03-28  3469.809\n",
       " 2017-03-29  3465.193\n",
       " 2017-03-30  3436.758\n",
       " 2017-03-31  3456.046\n",
       " 2017-04-05  3503.893\n",
       " 2017-04-06  3514.047\n",
       " 2017-04-07  3517.463\n",
       " 2017-04-10  3505.139\n",
       " 2017-04-11  3517.328\n",
       " 2017-04-12  3509.439\n",
       " 2017-04-13  3514.566\n",
       " 2017-04-14  3486.505,                close\n",
       " date                \n",
       " 2017-04-17  3479.942\n",
       " 2017-04-18  3462.743\n",
       " 2017-04-19  3445.876\n",
       " 2017-04-20  3461.548\n",
       " 2017-04-21  3466.787\n",
       " 2017-04-24  3431.259\n",
       " 2017-04-25  3440.974\n",
       " 2017-04-26  3445.183\n",
       " 2017-04-27  3446.720\n",
       " 2017-04-28  3439.753\n",
       " 2017-05-02  3426.577\n",
       " 2017-05-03  3413.128\n",
       " 2017-05-04  3404.386\n",
       " 2017-05-05  3382.550\n",
       " 2017-05-08  3358.813\n",
       " 2017-05-09  3352.532\n",
       " 2017-05-10  3337.701\n",
       " 2017-05-11  3356.646\n",
       " 2017-05-12  3385.379\n",
       " 2017-05-15  3399.194,                close\n",
       " date                \n",
       " 2017-05-15  3399.194\n",
       " 2017-05-16  3428.649\n",
       " 2017-05-17  3409.966\n",
       " 2017-05-18  3398.113\n",
       " 2017-05-19  3403.849\n",
       " 2017-05-22  3411.239\n",
       " 2017-05-23  3424.194\n",
       " 2017-05-24  3424.167\n",
       " 2017-05-25  3485.658\n",
       " 2017-05-26  3480.434\n",
       " 2017-05-31  3492.885\n",
       " 2017-06-01  3497.738\n",
       " 2017-06-02  3486.507\n",
       " 2017-06-05  3468.754\n",
       " 2017-06-06  3492.882\n",
       " 2017-06-07  3533.872\n",
       " 2017-06-08  3560.979\n",
       " 2017-06-09  3576.170\n",
       " 2017-06-12  3574.389\n",
       " 2017-06-13  3582.267\n",
       " 2017-06-14  3535.299\n",
       " 2017-06-15  3528.793,                close\n",
       " date                \n",
       " 2017-06-15  3528.793\n",
       " 2017-06-16  3518.761\n",
       " 2017-06-19  3553.665\n",
       " 2017-06-20  3546.494\n",
       " 2017-06-21  3587.955\n",
       " 2017-06-22  3590.343\n",
       " 2017-06-23  3622.883\n",
       " 2017-06-26  3668.092\n",
       " 2017-06-27  3674.715\n",
       " 2017-06-28  3646.167\n",
       " 2017-06-29  3668.828\n",
       " 2017-06-30  3666.798\n",
       " 2017-07-03  3650.846\n",
       " 2017-07-04  3619.984\n",
       " 2017-07-05  3659.680\n",
       " 2017-07-06  3660.097\n",
       " 2017-07-07  3655.929\n",
       " 2017-07-10  3653.687\n",
       " 2017-07-11  3670.809\n",
       " 2017-07-12  3658.824\n",
       " 2017-07-13  3686.921\n",
       " 2017-07-14  3703.094,                close\n",
       " date                \n",
       " 2017-07-17  3663.557\n",
       " 2017-07-18  3667.181\n",
       " 2017-07-19  3729.747\n",
       " 2017-07-20  3747.884\n",
       " 2017-07-21  3728.598\n",
       " 2017-07-24  3743.469\n",
       " 2017-07-25  3719.559\n",
       " 2017-07-26  3705.388\n",
       " 2017-07-27  3712.195\n",
       " 2017-07-28  3721.891\n",
       " 2017-07-31  3737.873\n",
       " 2017-08-01  3770.383\n",
       " 2017-08-02  3760.853\n",
       " 2017-08-03  3727.826\n",
       " 2017-08-04  3707.580\n",
       " 2017-08-07  3726.795\n",
       " 2017-08-08  3732.213\n",
       " 2017-08-09  3731.044\n",
       " 2017-08-10  3715.921\n",
       " 2017-08-11  3647.350\n",
       " 2017-08-14  3694.683\n",
       " 2017-08-15  3706.057,                close\n",
       " date                \n",
       " 2017-08-15  3706.057\n",
       " 2017-08-16  3701.421\n",
       " 2017-08-17  3721.277\n",
       " 2017-08-18  3724.675\n",
       " 2017-08-21  3740.994\n",
       " 2017-08-22  3752.298\n",
       " 2017-08-23  3756.088\n",
       " 2017-08-24  3734.646\n",
       " 2017-08-25  3795.754\n",
       " 2017-08-28  3842.712\n",
       " 2017-08-29  3834.538\n",
       " 2017-08-30  3834.300\n",
       " 2017-08-31  3822.093\n",
       " 2017-09-01  3830.538\n",
       " 2017-09-04  3845.616\n",
       " 2017-09-05  3857.046\n",
       " 2017-09-06  3849.450\n",
       " 2017-09-07  3829.871\n",
       " 2017-09-08  3825.990\n",
       " 2017-09-11  3825.645\n",
       " 2017-09-12  3837.934\n",
       " 2017-09-13  3842.606\n",
       " 2017-09-14  3829.955\n",
       " 2017-09-15  3831.296,                close\n",
       " date                \n",
       " 2017-09-15  3831.296\n",
       " 2017-09-18  3843.143\n",
       " 2017-09-19  3832.116\n",
       " 2017-09-20  3842.435\n",
       " 2017-09-21  3837.818\n",
       " 2017-09-22  3837.730\n",
       " 2017-09-25  3817.791\n",
       " 2017-09-26  3820.782\n",
       " 2017-09-27  3821.200\n",
       " 2017-09-28  3822.539\n",
       " 2017-09-29  3836.501\n",
       " 2017-10-09  3882.208\n",
       " 2017-10-10  3889.864\n",
       " 2017-10-11  3902.687\n",
       " 2017-10-12  3912.954\n",
       " 2017-10-13  3921.002]"
      ]
     },
     "execution_count": 41,
     "metadata": {},
     "output_type": "execute_result"
    }
   ],
   "source": [
    "lis = split_df(df,'2017-03-15')\n",
    "lis"
   ]
  },
  {
   "cell_type": "code",
   "execution_count": 42,
   "metadata": {},
   "outputs": [
    {
     "data": {
      "text/plain": [
       "[Timestamp('2017-04-15 00:00:00'),\n",
       " Timestamp('2017-05-15 00:00:00'),\n",
       " Timestamp('2017-06-15 00:00:00'),\n",
       " Timestamp('2017-07-15 00:00:00'),\n",
       " Timestamp('2017-08-15 00:00:00'),\n",
       " Timestamp('2017-09-15 00:00:00'),\n",
       " Timestamp('2017-10-15 00:00:00')]"
      ]
     },
     "execution_count": 42,
     "metadata": {},
     "output_type": "execute_result"
    }
   ],
   "source": [
    "ob = get_obs_days('2017-03-15')\n",
    "ob"
   ]
  },
  {
   "cell_type": "code",
   "execution_count": 34,
   "metadata": {},
   "outputs": [
    {
     "name": "stdout",
     "output_type": "stream",
     "text": [
      "DatetimeIndex(['2017-04-17'], dtype='datetime64[ns]', name='date', freq=None)\n"
     ]
    }
   ],
   "source": [
    "if ob[0] in lis[0].index:\n",
    "    print ('Hi')\n",
    "else:\n",
    "    ob[0] = lis[0+1][0:1].index\n",
    "    print (ob[0]) "
   ]
  },
  {
   "cell_type": "code",
   "execution_count": 43,
   "metadata": {},
   "outputs": [
    {
     "name": "stdout",
     "output_type": "stream",
     "text": [
      "Next trade_day\n",
      "No change\n",
      "No change\n",
      "Next trade_day\n",
      "No change\n",
      "No change\n"
     ]
    },
    {
     "data": {
      "text/plain": [
       "[DatetimeIndex(['2017-04-17'], dtype='datetime64[ns]', name='date', freq=None),\n",
       " Timestamp('2017-05-15 00:00:00'),\n",
       " Timestamp('2017-06-15 00:00:00'),\n",
       " DatetimeIndex(['2017-07-17'], dtype='datetime64[ns]', name='date', freq=None),\n",
       " Timestamp('2017-08-15 00:00:00'),\n",
       " Timestamp('2017-09-15 00:00:00'),\n",
       " Timestamp('2017-10-15 00:00:00')]"
      ]
     },
     "execution_count": 43,
     "metadata": {},
     "output_type": "execute_result"
    }
   ],
   "source": [
    "for i in range(6):\n",
    "    if ob[i] in lis[i].index:\n",
    "        print ('No change')\n",
    "    else:\n",
    "        ob[i] = lis[i+1][0:1].index\n",
    "        print ('Next trade_day')\n",
    "ob"
   ]
  },
  {
   "cell_type": "code",
   "execution_count": 48,
   "metadata": {},
   "outputs": [],
   "source": [
    "lam = [0,1,2,3,4,5,6,7]"
   ]
  },
  {
   "cell_type": "code",
   "execution_count": 50,
   "metadata": {},
   "outputs": [
    {
     "data": {
      "text/plain": [
       "[0, 1, 2, 3, 4, 5, 6]"
      ]
     },
     "execution_count": 50,
     "metadata": {},
     "output_type": "execute_result"
    }
   ],
   "source": [
    "lam[:-1]"
   ]
  },
  {
   "cell_type": "code",
   "execution_count": 54,
   "metadata": {},
   "outputs": [
    {
     "data": {
      "text/plain": [
       "DatetimeIndex(['2017-07-17'], dtype='datetime64[ns]', name='date', freq=None)"
      ]
     },
     "execution_count": 54,
     "metadata": {},
     "output_type": "execute_result"
    }
   ],
   "source": [
    "ob[3]"
   ]
  },
  {
   "cell_type": "code",
   "execution_count": null,
   "metadata": {},
   "outputs": [],
   "source": []
  },
  {
   "cell_type": "code",
   "execution_count": null,
   "metadata": {
    "collapsed": true
   },
   "outputs": [],
   "source": []
  }
 ],
 "metadata": {
  "kernelspec": {
   "display_name": "Python 3",
   "language": "python",
   "name": "python3"
  },
  "language_info": {
   "codemirror_mode": {
    "name": "ipython",
    "version": 3
   },
   "file_extension": ".py",
   "mimetype": "text/x-python",
   "name": "python",
   "nbconvert_exporter": "python",
   "pygments_lexer": "ipython3",
   "version": "3.6.1"
  }
 },
 "nbformat": 4,
 "nbformat_minor": 2
}
