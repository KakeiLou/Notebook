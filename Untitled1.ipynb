{
 "cells": [
  {
   "cell_type": "code",
   "execution_count": 1,
   "metadata": {
    "collapsed": true
   },
   "outputs": [],
   "source": [
    "import pandas as pd\n",
    "import numpy as np\n",
    "import matplotlib.pyplot as plt"
   ]
  },
  {
   "cell_type": "code",
   "execution_count": 2,
   "metadata": {
    "collapsed": true
   },
   "outputs": [],
   "source": [
    "s = pd.Series([1,3,5,np.nan,6,9,10,11])"
   ]
  },
  {
   "cell_type": "code",
   "execution_count": 3,
   "metadata": {},
   "outputs": [
    {
     "data": {
      "text/plain": [
       "0     1.0\n",
       "1     3.0\n",
       "2     5.0\n",
       "3     NaN\n",
       "4     6.0\n",
       "5     9.0\n",
       "6    10.0\n",
       "7    11.0\n",
       "dtype: float64"
      ]
     },
     "execution_count": 3,
     "metadata": {},
     "output_type": "execute_result"
    }
   ],
   "source": [
    "s"
   ]
  },
  {
   "cell_type": "code",
   "execution_count": 5,
   "metadata": {},
   "outputs": [
    {
     "data": {
      "text/plain": [
       "DatetimeIndex(['2017-09-18', '2017-09-19', '2017-09-20', '2017-09-21',\n",
       "               '2017-09-22', '2017-09-23', '2017-09-24'],\n",
       "              dtype='datetime64[ns]', freq='D')"
      ]
     },
     "execution_count": 5,
     "metadata": {},
     "output_type": "execute_result"
    }
   ],
   "source": [
    "dates = pd.date_range('20170918',periods = 7)\n",
    "dates"
   ]
  },
  {
   "cell_type": "code",
   "execution_count": 6,
   "metadata": {
    "collapsed": true
   },
   "outputs": [],
   "source": [
    "df = pd.DataFrame(np.random.randn (7,5), index = dates,columns = list('ABCDE'))"
   ]
  },
  {
   "cell_type": "code",
   "execution_count": 7,
   "metadata": {},
   "outputs": [
    {
     "data": {
      "text/html": [
       "<div>\n",
       "<style>\n",
       "    .dataframe thead tr:only-child th {\n",
       "        text-align: right;\n",
       "    }\n",
       "\n",
       "    .dataframe thead th {\n",
       "        text-align: left;\n",
       "    }\n",
       "\n",
       "    .dataframe tbody tr th {\n",
       "        vertical-align: top;\n",
       "    }\n",
       "</style>\n",
       "<table border=\"1\" class=\"dataframe\">\n",
       "  <thead>\n",
       "    <tr style=\"text-align: right;\">\n",
       "      <th></th>\n",
       "      <th>A</th>\n",
       "      <th>B</th>\n",
       "      <th>C</th>\n",
       "      <th>D</th>\n",
       "      <th>E</th>\n",
       "    </tr>\n",
       "  </thead>\n",
       "  <tbody>\n",
       "    <tr>\n",
       "      <th>2017-09-18</th>\n",
       "      <td>0.623726</td>\n",
       "      <td>0.555961</td>\n",
       "      <td>0.554159</td>\n",
       "      <td>0.207624</td>\n",
       "      <td>-1.334903</td>\n",
       "    </tr>\n",
       "    <tr>\n",
       "      <th>2017-09-19</th>\n",
       "      <td>-1.261741</td>\n",
       "      <td>1.611252</td>\n",
       "      <td>-1.073116</td>\n",
       "      <td>-1.968401</td>\n",
       "      <td>0.953691</td>\n",
       "    </tr>\n",
       "    <tr>\n",
       "      <th>2017-09-20</th>\n",
       "      <td>-1.119354</td>\n",
       "      <td>-0.326414</td>\n",
       "      <td>-0.022812</td>\n",
       "      <td>-1.411040</td>\n",
       "      <td>1.811851</td>\n",
       "    </tr>\n",
       "    <tr>\n",
       "      <th>2017-09-21</th>\n",
       "      <td>2.078707</td>\n",
       "      <td>0.677818</td>\n",
       "      <td>1.162163</td>\n",
       "      <td>-1.923501</td>\n",
       "      <td>0.458266</td>\n",
       "    </tr>\n",
       "    <tr>\n",
       "      <th>2017-09-22</th>\n",
       "      <td>0.279650</td>\n",
       "      <td>-0.978050</td>\n",
       "      <td>-0.401023</td>\n",
       "      <td>-0.097844</td>\n",
       "      <td>0.211954</td>\n",
       "    </tr>\n",
       "    <tr>\n",
       "      <th>2017-09-23</th>\n",
       "      <td>0.588165</td>\n",
       "      <td>-0.221428</td>\n",
       "      <td>1.187948</td>\n",
       "      <td>-0.179808</td>\n",
       "      <td>0.366893</td>\n",
       "    </tr>\n",
       "    <tr>\n",
       "      <th>2017-09-24</th>\n",
       "      <td>-1.003102</td>\n",
       "      <td>1.224259</td>\n",
       "      <td>-0.085742</td>\n",
       "      <td>0.314949</td>\n",
       "      <td>0.245683</td>\n",
       "    </tr>\n",
       "  </tbody>\n",
       "</table>\n",
       "</div>"
      ],
      "text/plain": [
       "                   A         B         C         D         E\n",
       "2017-09-18  0.623726  0.555961  0.554159  0.207624 -1.334903\n",
       "2017-09-19 -1.261741  1.611252 -1.073116 -1.968401  0.953691\n",
       "2017-09-20 -1.119354 -0.326414 -0.022812 -1.411040  1.811851\n",
       "2017-09-21  2.078707  0.677818  1.162163 -1.923501  0.458266\n",
       "2017-09-22  0.279650 -0.978050 -0.401023 -0.097844  0.211954\n",
       "2017-09-23  0.588165 -0.221428  1.187948 -0.179808  0.366893\n",
       "2017-09-24 -1.003102  1.224259 -0.085742  0.314949  0.245683"
      ]
     },
     "execution_count": 7,
     "metadata": {},
     "output_type": "execute_result"
    }
   ],
   "source": [
    "df"
   ]
  },
  {
   "cell_type": "code",
   "execution_count": 13,
   "metadata": {},
   "outputs": [],
   "source": [
    "df2 = pd.DataFrame({'a' : 1.,\n",
    "                    'b' : pd.Timestamp('20170918'),\n",
    "                    'c' : pd.Series(1, index = list(range(4)),dtype = 'float32'),\n",
    "                    'd' : np.array([88]*4,dtype ='float32'),\n",
    "                    'e' : pd.Categorical([\"OK\",\"No\",\"OK\",\"No\"]),\n",
    "                    'f' : 'abcdef'})"
   ]
  },
  {
   "cell_type": "code",
   "execution_count": 14,
   "metadata": {},
   "outputs": [
    {
     "data": {
      "text/html": [
       "<div>\n",
       "<style>\n",
       "    .dataframe thead tr:only-child th {\n",
       "        text-align: right;\n",
       "    }\n",
       "\n",
       "    .dataframe thead th {\n",
       "        text-align: left;\n",
       "    }\n",
       "\n",
       "    .dataframe tbody tr th {\n",
       "        vertical-align: top;\n",
       "    }\n",
       "</style>\n",
       "<table border=\"1\" class=\"dataframe\">\n",
       "  <thead>\n",
       "    <tr style=\"text-align: right;\">\n",
       "      <th></th>\n",
       "      <th>a</th>\n",
       "      <th>b</th>\n",
       "      <th>c</th>\n",
       "      <th>d</th>\n",
       "      <th>e</th>\n",
       "      <th>f</th>\n",
       "    </tr>\n",
       "  </thead>\n",
       "  <tbody>\n",
       "    <tr>\n",
       "      <th>0</th>\n",
       "      <td>1.0</td>\n",
       "      <td>2017-09-18</td>\n",
       "      <td>1.0</td>\n",
       "      <td>88.0</td>\n",
       "      <td>OK</td>\n",
       "      <td>abcdef</td>\n",
       "    </tr>\n",
       "    <tr>\n",
       "      <th>1</th>\n",
       "      <td>1.0</td>\n",
       "      <td>2017-09-18</td>\n",
       "      <td>1.0</td>\n",
       "      <td>88.0</td>\n",
       "      <td>No</td>\n",
       "      <td>abcdef</td>\n",
       "    </tr>\n",
       "    <tr>\n",
       "      <th>2</th>\n",
       "      <td>1.0</td>\n",
       "      <td>2017-09-18</td>\n",
       "      <td>1.0</td>\n",
       "      <td>88.0</td>\n",
       "      <td>OK</td>\n",
       "      <td>abcdef</td>\n",
       "    </tr>\n",
       "    <tr>\n",
       "      <th>3</th>\n",
       "      <td>1.0</td>\n",
       "      <td>2017-09-18</td>\n",
       "      <td>1.0</td>\n",
       "      <td>88.0</td>\n",
       "      <td>No</td>\n",
       "      <td>abcdef</td>\n",
       "    </tr>\n",
       "  </tbody>\n",
       "</table>\n",
       "</div>"
      ],
      "text/plain": [
       "     a          b    c     d   e       f\n",
       "0  1.0 2017-09-18  1.0  88.0  OK  abcdef\n",
       "1  1.0 2017-09-18  1.0  88.0  No  abcdef\n",
       "2  1.0 2017-09-18  1.0  88.0  OK  abcdef\n",
       "3  1.0 2017-09-18  1.0  88.0  No  abcdef"
      ]
     },
     "execution_count": 14,
     "metadata": {},
     "output_type": "execute_result"
    }
   ],
   "source": [
    "df2"
   ]
  },
  {
   "cell_type": "code",
   "execution_count": 15,
   "metadata": {},
   "outputs": [
    {
     "data": {
      "text/plain": [
       "a           float64\n",
       "b    datetime64[ns]\n",
       "c           float32\n",
       "d           float32\n",
       "e          category\n",
       "f            object\n",
       "dtype: object"
      ]
     },
     "execution_count": 15,
     "metadata": {},
     "output_type": "execute_result"
    }
   ],
   "source": [
    "df2.dtypes"
   ]
  },
  {
   "cell_type": "code",
   "execution_count": 16,
   "metadata": {},
   "outputs": [
    {
     "data": {
      "text/html": [
       "<div>\n",
       "<style>\n",
       "    .dataframe thead tr:only-child th {\n",
       "        text-align: right;\n",
       "    }\n",
       "\n",
       "    .dataframe thead th {\n",
       "        text-align: left;\n",
       "    }\n",
       "\n",
       "    .dataframe tbody tr th {\n",
       "        vertical-align: top;\n",
       "    }\n",
       "</style>\n",
       "<table border=\"1\" class=\"dataframe\">\n",
       "  <thead>\n",
       "    <tr style=\"text-align: right;\">\n",
       "      <th></th>\n",
       "      <th>A</th>\n",
       "      <th>B</th>\n",
       "      <th>C</th>\n",
       "      <th>D</th>\n",
       "      <th>E</th>\n",
       "    </tr>\n",
       "  </thead>\n",
       "  <tbody>\n",
       "    <tr>\n",
       "      <th>2017-09-18</th>\n",
       "      <td>0.623726</td>\n",
       "      <td>0.555961</td>\n",
       "      <td>0.554159</td>\n",
       "      <td>0.207624</td>\n",
       "      <td>-1.334903</td>\n",
       "    </tr>\n",
       "    <tr>\n",
       "      <th>2017-09-19</th>\n",
       "      <td>-1.261741</td>\n",
       "      <td>1.611252</td>\n",
       "      <td>-1.073116</td>\n",
       "      <td>-1.968401</td>\n",
       "      <td>0.953691</td>\n",
       "    </tr>\n",
       "    <tr>\n",
       "      <th>2017-09-20</th>\n",
       "      <td>-1.119354</td>\n",
       "      <td>-0.326414</td>\n",
       "      <td>-0.022812</td>\n",
       "      <td>-1.411040</td>\n",
       "      <td>1.811851</td>\n",
       "    </tr>\n",
       "    <tr>\n",
       "      <th>2017-09-21</th>\n",
       "      <td>2.078707</td>\n",
       "      <td>0.677818</td>\n",
       "      <td>1.162163</td>\n",
       "      <td>-1.923501</td>\n",
       "      <td>0.458266</td>\n",
       "    </tr>\n",
       "  </tbody>\n",
       "</table>\n",
       "</div>"
      ],
      "text/plain": [
       "                   A         B         C         D         E\n",
       "2017-09-18  0.623726  0.555961  0.554159  0.207624 -1.334903\n",
       "2017-09-19 -1.261741  1.611252 -1.073116 -1.968401  0.953691\n",
       "2017-09-20 -1.119354 -0.326414 -0.022812 -1.411040  1.811851\n",
       "2017-09-21  2.078707  0.677818  1.162163 -1.923501  0.458266"
      ]
     },
     "execution_count": 16,
     "metadata": {},
     "output_type": "execute_result"
    }
   ],
   "source": [
    "df.head(4)"
   ]
  },
  {
   "cell_type": "code",
   "execution_count": 17,
   "metadata": {},
   "outputs": [
    {
     "data": {
      "text/html": [
       "<div>\n",
       "<style>\n",
       "    .dataframe thead tr:only-child th {\n",
       "        text-align: right;\n",
       "    }\n",
       "\n",
       "    .dataframe thead th {\n",
       "        text-align: left;\n",
       "    }\n",
       "\n",
       "    .dataframe tbody tr th {\n",
       "        vertical-align: top;\n",
       "    }\n",
       "</style>\n",
       "<table border=\"1\" class=\"dataframe\">\n",
       "  <thead>\n",
       "    <tr style=\"text-align: right;\">\n",
       "      <th></th>\n",
       "      <th>a</th>\n",
       "      <th>b</th>\n",
       "      <th>c</th>\n",
       "      <th>d</th>\n",
       "      <th>e</th>\n",
       "      <th>f</th>\n",
       "    </tr>\n",
       "  </thead>\n",
       "  <tbody>\n",
       "    <tr>\n",
       "      <th>2</th>\n",
       "      <td>1.0</td>\n",
       "      <td>2017-09-18</td>\n",
       "      <td>1.0</td>\n",
       "      <td>88.0</td>\n",
       "      <td>OK</td>\n",
       "      <td>abcdef</td>\n",
       "    </tr>\n",
       "    <tr>\n",
       "      <th>3</th>\n",
       "      <td>1.0</td>\n",
       "      <td>2017-09-18</td>\n",
       "      <td>1.0</td>\n",
       "      <td>88.0</td>\n",
       "      <td>No</td>\n",
       "      <td>abcdef</td>\n",
       "    </tr>\n",
       "  </tbody>\n",
       "</table>\n",
       "</div>"
      ],
      "text/plain": [
       "     a          b    c     d   e       f\n",
       "2  1.0 2017-09-18  1.0  88.0  OK  abcdef\n",
       "3  1.0 2017-09-18  1.0  88.0  No  abcdef"
      ]
     },
     "execution_count": 17,
     "metadata": {},
     "output_type": "execute_result"
    }
   ],
   "source": [
    "df2.tail(2)"
   ]
  },
  {
   "cell_type": "code",
   "execution_count": 18,
   "metadata": {},
   "outputs": [
    {
     "data": {
      "text/plain": [
       "DatetimeIndex(['2017-09-18', '2017-09-19', '2017-09-20', '2017-09-21',\n",
       "               '2017-09-22', '2017-09-23', '2017-09-24'],\n",
       "              dtype='datetime64[ns]', freq='D')"
      ]
     },
     "execution_count": 18,
     "metadata": {},
     "output_type": "execute_result"
    }
   ],
   "source": [
    "df.index"
   ]
  },
  {
   "cell_type": "code",
   "execution_count": 19,
   "metadata": {},
   "outputs": [
    {
     "data": {
      "text/plain": [
       "Index(['A', 'B', 'C', 'D', 'E'], dtype='object')"
      ]
     },
     "execution_count": 19,
     "metadata": {},
     "output_type": "execute_result"
    }
   ],
   "source": [
    "df.columns"
   ]
  },
  {
   "cell_type": "code",
   "execution_count": 20,
   "metadata": {},
   "outputs": [
    {
     "data": {
      "text/plain": [
       "array([[ 0.62372561,  0.55596125,  0.55415867,  0.20762363, -1.33490267],\n",
       "       [-1.26174121,  1.61125152, -1.0731161 , -1.96840061,  0.95369063],\n",
       "       [-1.11935425, -0.32641384, -0.02281201, -1.4110401 ,  1.8118507 ],\n",
       "       [ 2.07870735,  0.67781845,  1.16216322, -1.92350122,  0.458266  ],\n",
       "       [ 0.27964965, -0.97804991, -0.40102259, -0.09784437,  0.2119541 ],\n",
       "       [ 0.58816517, -0.2214276 ,  1.18794779, -0.17980806,  0.36689262],\n",
       "       [-1.00310239,  1.22425942, -0.08574245,  0.31494928,  0.24568328]])"
      ]
     },
     "execution_count": 20,
     "metadata": {},
     "output_type": "execute_result"
    }
   ],
   "source": [
    "df.values"
   ]
  },
  {
   "cell_type": "code",
   "execution_count": 21,
   "metadata": {},
   "outputs": [
    {
     "data": {
      "text/html": [
       "<div>\n",
       "<style>\n",
       "    .dataframe thead tr:only-child th {\n",
       "        text-align: right;\n",
       "    }\n",
       "\n",
       "    .dataframe thead th {\n",
       "        text-align: left;\n",
       "    }\n",
       "\n",
       "    .dataframe tbody tr th {\n",
       "        vertical-align: top;\n",
       "    }\n",
       "</style>\n",
       "<table border=\"1\" class=\"dataframe\">\n",
       "  <thead>\n",
       "    <tr style=\"text-align: right;\">\n",
       "      <th></th>\n",
       "      <th>A</th>\n",
       "      <th>B</th>\n",
       "      <th>C</th>\n",
       "      <th>D</th>\n",
       "      <th>E</th>\n",
       "    </tr>\n",
       "  </thead>\n",
       "  <tbody>\n",
       "    <tr>\n",
       "      <th>count</th>\n",
       "      <td>7.000000</td>\n",
       "      <td>7.000000</td>\n",
       "      <td>7.000000</td>\n",
       "      <td>7.000000</td>\n",
       "      <td>7.000000</td>\n",
       "    </tr>\n",
       "    <tr>\n",
       "      <th>mean</th>\n",
       "      <td>0.026579</td>\n",
       "      <td>0.363343</td>\n",
       "      <td>0.188797</td>\n",
       "      <td>-0.722574</td>\n",
       "      <td>0.387634</td>\n",
       "    </tr>\n",
       "    <tr>\n",
       "      <th>std</th>\n",
       "      <td>1.223412</td>\n",
       "      <td>0.917561</td>\n",
       "      <td>0.830632</td>\n",
       "      <td>1.007877</td>\n",
       "      <td>0.946254</td>\n",
       "    </tr>\n",
       "    <tr>\n",
       "      <th>min</th>\n",
       "      <td>-1.261741</td>\n",
       "      <td>-0.978050</td>\n",
       "      <td>-1.073116</td>\n",
       "      <td>-1.968401</td>\n",
       "      <td>-1.334903</td>\n",
       "    </tr>\n",
       "    <tr>\n",
       "      <th>25%</th>\n",
       "      <td>-1.061228</td>\n",
       "      <td>-0.273921</td>\n",
       "      <td>-0.243383</td>\n",
       "      <td>-1.667271</td>\n",
       "      <td>0.228819</td>\n",
       "    </tr>\n",
       "    <tr>\n",
       "      <th>50%</th>\n",
       "      <td>0.279650</td>\n",
       "      <td>0.555961</td>\n",
       "      <td>-0.022812</td>\n",
       "      <td>-0.179808</td>\n",
       "      <td>0.366893</td>\n",
       "    </tr>\n",
       "    <tr>\n",
       "      <th>75%</th>\n",
       "      <td>0.605945</td>\n",
       "      <td>0.951039</td>\n",
       "      <td>0.858161</td>\n",
       "      <td>0.054890</td>\n",
       "      <td>0.705978</td>\n",
       "    </tr>\n",
       "    <tr>\n",
       "      <th>max</th>\n",
       "      <td>2.078707</td>\n",
       "      <td>1.611252</td>\n",
       "      <td>1.187948</td>\n",
       "      <td>0.314949</td>\n",
       "      <td>1.811851</td>\n",
       "    </tr>\n",
       "  </tbody>\n",
       "</table>\n",
       "</div>"
      ],
      "text/plain": [
       "              A         B         C         D         E\n",
       "count  7.000000  7.000000  7.000000  7.000000  7.000000\n",
       "mean   0.026579  0.363343  0.188797 -0.722574  0.387634\n",
       "std    1.223412  0.917561  0.830632  1.007877  0.946254\n",
       "min   -1.261741 -0.978050 -1.073116 -1.968401 -1.334903\n",
       "25%   -1.061228 -0.273921 -0.243383 -1.667271  0.228819\n",
       "50%    0.279650  0.555961 -0.022812 -0.179808  0.366893\n",
       "75%    0.605945  0.951039  0.858161  0.054890  0.705978\n",
       "max    2.078707  1.611252  1.187948  0.314949  1.811851"
      ]
     },
     "execution_count": 21,
     "metadata": {},
     "output_type": "execute_result"
    }
   ],
   "source": [
    "df.describe()"
   ]
  },
  {
   "cell_type": "code",
   "execution_count": 22,
   "metadata": {},
   "outputs": [
    {
     "data": {
      "text/html": [
       "<div>\n",
       "<style>\n",
       "    .dataframe thead tr:only-child th {\n",
       "        text-align: right;\n",
       "    }\n",
       "\n",
       "    .dataframe thead th {\n",
       "        text-align: left;\n",
       "    }\n",
       "\n",
       "    .dataframe tbody tr th {\n",
       "        vertical-align: top;\n",
       "    }\n",
       "</style>\n",
       "<table border=\"1\" class=\"dataframe\">\n",
       "  <thead>\n",
       "    <tr style=\"text-align: right;\">\n",
       "      <th></th>\n",
       "      <th>E</th>\n",
       "      <th>D</th>\n",
       "      <th>C</th>\n",
       "      <th>B</th>\n",
       "      <th>A</th>\n",
       "    </tr>\n",
       "  </thead>\n",
       "  <tbody>\n",
       "    <tr>\n",
       "      <th>2017-09-18</th>\n",
       "      <td>-1.334903</td>\n",
       "      <td>0.207624</td>\n",
       "      <td>0.554159</td>\n",
       "      <td>0.555961</td>\n",
       "      <td>0.623726</td>\n",
       "    </tr>\n",
       "    <tr>\n",
       "      <th>2017-09-19</th>\n",
       "      <td>0.953691</td>\n",
       "      <td>-1.968401</td>\n",
       "      <td>-1.073116</td>\n",
       "      <td>1.611252</td>\n",
       "      <td>-1.261741</td>\n",
       "    </tr>\n",
       "    <tr>\n",
       "      <th>2017-09-20</th>\n",
       "      <td>1.811851</td>\n",
       "      <td>-1.411040</td>\n",
       "      <td>-0.022812</td>\n",
       "      <td>-0.326414</td>\n",
       "      <td>-1.119354</td>\n",
       "    </tr>\n",
       "    <tr>\n",
       "      <th>2017-09-21</th>\n",
       "      <td>0.458266</td>\n",
       "      <td>-1.923501</td>\n",
       "      <td>1.162163</td>\n",
       "      <td>0.677818</td>\n",
       "      <td>2.078707</td>\n",
       "    </tr>\n",
       "    <tr>\n",
       "      <th>2017-09-22</th>\n",
       "      <td>0.211954</td>\n",
       "      <td>-0.097844</td>\n",
       "      <td>-0.401023</td>\n",
       "      <td>-0.978050</td>\n",
       "      <td>0.279650</td>\n",
       "    </tr>\n",
       "    <tr>\n",
       "      <th>2017-09-23</th>\n",
       "      <td>0.366893</td>\n",
       "      <td>-0.179808</td>\n",
       "      <td>1.187948</td>\n",
       "      <td>-0.221428</td>\n",
       "      <td>0.588165</td>\n",
       "    </tr>\n",
       "    <tr>\n",
       "      <th>2017-09-24</th>\n",
       "      <td>0.245683</td>\n",
       "      <td>0.314949</td>\n",
       "      <td>-0.085742</td>\n",
       "      <td>1.224259</td>\n",
       "      <td>-1.003102</td>\n",
       "    </tr>\n",
       "  </tbody>\n",
       "</table>\n",
       "</div>"
      ],
      "text/plain": [
       "                   E         D         C         B         A\n",
       "2017-09-18 -1.334903  0.207624  0.554159  0.555961  0.623726\n",
       "2017-09-19  0.953691 -1.968401 -1.073116  1.611252 -1.261741\n",
       "2017-09-20  1.811851 -1.411040 -0.022812 -0.326414 -1.119354\n",
       "2017-09-21  0.458266 -1.923501  1.162163  0.677818  2.078707\n",
       "2017-09-22  0.211954 -0.097844 -0.401023 -0.978050  0.279650\n",
       "2017-09-23  0.366893 -0.179808  1.187948 -0.221428  0.588165\n",
       "2017-09-24  0.245683  0.314949 -0.085742  1.224259 -1.003102"
      ]
     },
     "execution_count": 22,
     "metadata": {},
     "output_type": "execute_result"
    }
   ],
   "source": [
    "df.sort_index(axis = 1, ascending =False)"
   ]
  },
  {
   "cell_type": "code",
   "execution_count": 25,
   "metadata": {},
   "outputs": [
    {
     "data": {
      "text/html": [
       "<div>\n",
       "<style>\n",
       "    .dataframe thead tr:only-child th {\n",
       "        text-align: right;\n",
       "    }\n",
       "\n",
       "    .dataframe thead th {\n",
       "        text-align: left;\n",
       "    }\n",
       "\n",
       "    .dataframe tbody tr th {\n",
       "        vertical-align: top;\n",
       "    }\n",
       "</style>\n",
       "<table border=\"1\" class=\"dataframe\">\n",
       "  <thead>\n",
       "    <tr style=\"text-align: right;\">\n",
       "      <th></th>\n",
       "      <th>A</th>\n",
       "      <th>B</th>\n",
       "      <th>C</th>\n",
       "      <th>D</th>\n",
       "      <th>E</th>\n",
       "    </tr>\n",
       "  </thead>\n",
       "  <tbody>\n",
       "    <tr>\n",
       "      <th>2017-09-18</th>\n",
       "      <td>0.623726</td>\n",
       "      <td>0.555961</td>\n",
       "      <td>0.554159</td>\n",
       "      <td>0.207624</td>\n",
       "      <td>-1.334903</td>\n",
       "    </tr>\n",
       "    <tr>\n",
       "      <th>2017-09-19</th>\n",
       "      <td>-1.261741</td>\n",
       "      <td>1.611252</td>\n",
       "      <td>-1.073116</td>\n",
       "      <td>-1.968401</td>\n",
       "      <td>0.953691</td>\n",
       "    </tr>\n",
       "    <tr>\n",
       "      <th>2017-09-20</th>\n",
       "      <td>-1.119354</td>\n",
       "      <td>-0.326414</td>\n",
       "      <td>-0.022812</td>\n",
       "      <td>-1.411040</td>\n",
       "      <td>1.811851</td>\n",
       "    </tr>\n",
       "    <tr>\n",
       "      <th>2017-09-21</th>\n",
       "      <td>2.078707</td>\n",
       "      <td>0.677818</td>\n",
       "      <td>1.162163</td>\n",
       "      <td>-1.923501</td>\n",
       "      <td>0.458266</td>\n",
       "    </tr>\n",
       "    <tr>\n",
       "      <th>2017-09-22</th>\n",
       "      <td>0.279650</td>\n",
       "      <td>-0.978050</td>\n",
       "      <td>-0.401023</td>\n",
       "      <td>-0.097844</td>\n",
       "      <td>0.211954</td>\n",
       "    </tr>\n",
       "    <tr>\n",
       "      <th>2017-09-23</th>\n",
       "      <td>0.588165</td>\n",
       "      <td>-0.221428</td>\n",
       "      <td>1.187948</td>\n",
       "      <td>-0.179808</td>\n",
       "      <td>0.366893</td>\n",
       "    </tr>\n",
       "    <tr>\n",
       "      <th>2017-09-24</th>\n",
       "      <td>-1.003102</td>\n",
       "      <td>1.224259</td>\n",
       "      <td>-0.085742</td>\n",
       "      <td>0.314949</td>\n",
       "      <td>0.245683</td>\n",
       "    </tr>\n",
       "  </tbody>\n",
       "</table>\n",
       "</div>"
      ],
      "text/plain": [
       "                   A         B         C         D         E\n",
       "2017-09-18  0.623726  0.555961  0.554159  0.207624 -1.334903\n",
       "2017-09-19 -1.261741  1.611252 -1.073116 -1.968401  0.953691\n",
       "2017-09-20 -1.119354 -0.326414 -0.022812 -1.411040  1.811851\n",
       "2017-09-21  2.078707  0.677818  1.162163 -1.923501  0.458266\n",
       "2017-09-22  0.279650 -0.978050 -0.401023 -0.097844  0.211954\n",
       "2017-09-23  0.588165 -0.221428  1.187948 -0.179808  0.366893\n",
       "2017-09-24 -1.003102  1.224259 -0.085742  0.314949  0.245683"
      ]
     },
     "execution_count": 25,
     "metadata": {},
     "output_type": "execute_result"
    }
   ],
   "source": [
    "df"
   ]
  },
  {
   "cell_type": "code",
   "execution_count": 28,
   "metadata": {},
   "outputs": [
    {
     "ename": "AttributeError",
     "evalue": "'DataFrame' object has no attribute 'sort'",
     "output_type": "error",
     "traceback": [
      "\u001b[1;31m---------------------------------------------------------------------------\u001b[0m",
      "\u001b[1;31mAttributeError\u001b[0m                            Traceback (most recent call last)",
      "\u001b[1;32m<ipython-input-28-ede2e438b9d8>\u001b[0m in \u001b[0;36m<module>\u001b[1;34m()\u001b[0m\n\u001b[1;32m----> 1\u001b[1;33m \u001b[0mdf\u001b[0m\u001b[1;33m.\u001b[0m\u001b[0msort\u001b[0m\u001b[1;33m(\u001b[0m\u001b[0mcolumns\u001b[0m\u001b[1;33m=\u001b[0m \u001b[1;34m'C'\u001b[0m\u001b[1;33m)\u001b[0m\u001b[1;33m\u001b[0m\u001b[0m\n\u001b[0m",
      "\u001b[1;32mD:\\ProgramData\\Anaconda3\\lib\\site-packages\\pandas\\core\\generic.py\u001b[0m in \u001b[0;36m__getattr__\u001b[1;34m(self, name)\u001b[0m\n\u001b[0;32m   2968\u001b[0m             \u001b[1;32mif\u001b[0m \u001b[0mname\u001b[0m \u001b[1;32min\u001b[0m \u001b[0mself\u001b[0m\u001b[1;33m.\u001b[0m\u001b[0m_info_axis\u001b[0m\u001b[1;33m:\u001b[0m\u001b[1;33m\u001b[0m\u001b[0m\n\u001b[0;32m   2969\u001b[0m                 \u001b[1;32mreturn\u001b[0m \u001b[0mself\u001b[0m\u001b[1;33m[\u001b[0m\u001b[0mname\u001b[0m\u001b[1;33m]\u001b[0m\u001b[1;33m\u001b[0m\u001b[0m\n\u001b[1;32m-> 2970\u001b[1;33m             \u001b[1;32mreturn\u001b[0m \u001b[0mobject\u001b[0m\u001b[1;33m.\u001b[0m\u001b[0m__getattribute__\u001b[0m\u001b[1;33m(\u001b[0m\u001b[0mself\u001b[0m\u001b[1;33m,\u001b[0m \u001b[0mname\u001b[0m\u001b[1;33m)\u001b[0m\u001b[1;33m\u001b[0m\u001b[0m\n\u001b[0m\u001b[0;32m   2971\u001b[0m \u001b[1;33m\u001b[0m\u001b[0m\n\u001b[0;32m   2972\u001b[0m     \u001b[1;32mdef\u001b[0m \u001b[0m__setattr__\u001b[0m\u001b[1;33m(\u001b[0m\u001b[0mself\u001b[0m\u001b[1;33m,\u001b[0m \u001b[0mname\u001b[0m\u001b[1;33m,\u001b[0m \u001b[0mvalue\u001b[0m\u001b[1;33m)\u001b[0m\u001b[1;33m:\u001b[0m\u001b[1;33m\u001b[0m\u001b[0m\n",
      "\u001b[1;31mAttributeError\u001b[0m: 'DataFrame' object has no attribute 'sort'"
     ]
    }
   ],
   "source": [
    "df.sort(columns= 'C')"
   ]
  },
  {
   "cell_type": "code",
   "execution_count": 29,
   "metadata": {},
   "outputs": [
    {
     "data": {
      "text/plain": [
       "2017-09-18    0.623726\n",
       "2017-09-19   -1.261741\n",
       "2017-09-20   -1.119354\n",
       "2017-09-21    2.078707\n",
       "2017-09-22    0.279650\n",
       "2017-09-23    0.588165\n",
       "2017-09-24   -1.003102\n",
       "Freq: D, Name: A, dtype: float64"
      ]
     },
     "execution_count": 29,
     "metadata": {},
     "output_type": "execute_result"
    }
   ],
   "source": [
    "df['A']"
   ]
  },
  {
   "cell_type": "code",
   "execution_count": 30,
   "metadata": {},
   "outputs": [
    {
     "data": {
      "text/html": [
       "<div>\n",
       "<style>\n",
       "    .dataframe thead tr:only-child th {\n",
       "        text-align: right;\n",
       "    }\n",
       "\n",
       "    .dataframe thead th {\n",
       "        text-align: left;\n",
       "    }\n",
       "\n",
       "    .dataframe tbody tr th {\n",
       "        vertical-align: top;\n",
       "    }\n",
       "</style>\n",
       "<table border=\"1\" class=\"dataframe\">\n",
       "  <thead>\n",
       "    <tr style=\"text-align: right;\">\n",
       "      <th></th>\n",
       "      <th>A</th>\n",
       "      <th>B</th>\n",
       "      <th>C</th>\n",
       "      <th>D</th>\n",
       "      <th>E</th>\n",
       "    </tr>\n",
       "  </thead>\n",
       "  <tbody>\n",
       "    <tr>\n",
       "      <th>2017-09-18</th>\n",
       "      <td>0.623726</td>\n",
       "      <td>0.555961</td>\n",
       "      <td>0.554159</td>\n",
       "      <td>0.207624</td>\n",
       "      <td>-1.334903</td>\n",
       "    </tr>\n",
       "    <tr>\n",
       "      <th>2017-09-19</th>\n",
       "      <td>-1.261741</td>\n",
       "      <td>1.611252</td>\n",
       "      <td>-1.073116</td>\n",
       "      <td>-1.968401</td>\n",
       "      <td>0.953691</td>\n",
       "    </tr>\n",
       "    <tr>\n",
       "      <th>2017-09-20</th>\n",
       "      <td>-1.119354</td>\n",
       "      <td>-0.326414</td>\n",
       "      <td>-0.022812</td>\n",
       "      <td>-1.411040</td>\n",
       "      <td>1.811851</td>\n",
       "    </tr>\n",
       "    <tr>\n",
       "      <th>2017-09-21</th>\n",
       "      <td>2.078707</td>\n",
       "      <td>0.677818</td>\n",
       "      <td>1.162163</td>\n",
       "      <td>-1.923501</td>\n",
       "      <td>0.458266</td>\n",
       "    </tr>\n",
       "  </tbody>\n",
       "</table>\n",
       "</div>"
      ],
      "text/plain": [
       "                   A         B         C         D         E\n",
       "2017-09-18  0.623726  0.555961  0.554159  0.207624 -1.334903\n",
       "2017-09-19 -1.261741  1.611252 -1.073116 -1.968401  0.953691\n",
       "2017-09-20 -1.119354 -0.326414 -0.022812 -1.411040  1.811851\n",
       "2017-09-21  2.078707  0.677818  1.162163 -1.923501  0.458266"
      ]
     },
     "execution_count": 30,
     "metadata": {},
     "output_type": "execute_result"
    }
   ],
   "source": [
    "df[0:4]"
   ]
  },
  {
   "cell_type": "code",
   "execution_count": 31,
   "metadata": {},
   "outputs": [
    {
     "data": {
      "text/plain": [
       "A   -1.261741\n",
       "B    1.611252\n",
       "C   -1.073116\n",
       "D   -1.968401\n",
       "E    0.953691\n",
       "Name: 2017-09-19 00:00:00, dtype: float64"
      ]
     },
     "execution_count": 31,
     "metadata": {},
     "output_type": "execute_result"
    }
   ],
   "source": [
    "df.loc[dates[1]]"
   ]
  },
  {
   "cell_type": "code",
   "execution_count": 32,
   "metadata": {},
   "outputs": [
    {
     "data": {
      "text/html": [
       "<div>\n",
       "<style>\n",
       "    .dataframe thead tr:only-child th {\n",
       "        text-align: right;\n",
       "    }\n",
       "\n",
       "    .dataframe thead th {\n",
       "        text-align: left;\n",
       "    }\n",
       "\n",
       "    .dataframe tbody tr th {\n",
       "        vertical-align: top;\n",
       "    }\n",
       "</style>\n",
       "<table border=\"1\" class=\"dataframe\">\n",
       "  <thead>\n",
       "    <tr style=\"text-align: right;\">\n",
       "      <th></th>\n",
       "      <th>A</th>\n",
       "      <th>B</th>\n",
       "    </tr>\n",
       "  </thead>\n",
       "  <tbody>\n",
       "    <tr>\n",
       "      <th>2017-09-18</th>\n",
       "      <td>0.623726</td>\n",
       "      <td>0.555961</td>\n",
       "    </tr>\n",
       "    <tr>\n",
       "      <th>2017-09-19</th>\n",
       "      <td>-1.261741</td>\n",
       "      <td>1.611252</td>\n",
       "    </tr>\n",
       "    <tr>\n",
       "      <th>2017-09-20</th>\n",
       "      <td>-1.119354</td>\n",
       "      <td>-0.326414</td>\n",
       "    </tr>\n",
       "    <tr>\n",
       "      <th>2017-09-21</th>\n",
       "      <td>2.078707</td>\n",
       "      <td>0.677818</td>\n",
       "    </tr>\n",
       "    <tr>\n",
       "      <th>2017-09-22</th>\n",
       "      <td>0.279650</td>\n",
       "      <td>-0.978050</td>\n",
       "    </tr>\n",
       "    <tr>\n",
       "      <th>2017-09-23</th>\n",
       "      <td>0.588165</td>\n",
       "      <td>-0.221428</td>\n",
       "    </tr>\n",
       "    <tr>\n",
       "      <th>2017-09-24</th>\n",
       "      <td>-1.003102</td>\n",
       "      <td>1.224259</td>\n",
       "    </tr>\n",
       "  </tbody>\n",
       "</table>\n",
       "</div>"
      ],
      "text/plain": [
       "                   A         B\n",
       "2017-09-18  0.623726  0.555961\n",
       "2017-09-19 -1.261741  1.611252\n",
       "2017-09-20 -1.119354 -0.326414\n",
       "2017-09-21  2.078707  0.677818\n",
       "2017-09-22  0.279650 -0.978050\n",
       "2017-09-23  0.588165 -0.221428\n",
       "2017-09-24 -1.003102  1.224259"
      ]
     },
     "execution_count": 32,
     "metadata": {},
     "output_type": "execute_result"
    }
   ],
   "source": [
    "df.loc[:,['A','B']]"
   ]
  },
  {
   "cell_type": "code",
   "execution_count": 33,
   "metadata": {},
   "outputs": [
    {
     "data": {
      "text/html": [
       "<div>\n",
       "<style>\n",
       "    .dataframe thead tr:only-child th {\n",
       "        text-align: right;\n",
       "    }\n",
       "\n",
       "    .dataframe thead th {\n",
       "        text-align: left;\n",
       "    }\n",
       "\n",
       "    .dataframe tbody tr th {\n",
       "        vertical-align: top;\n",
       "    }\n",
       "</style>\n",
       "<table border=\"1\" class=\"dataframe\">\n",
       "  <thead>\n",
       "    <tr style=\"text-align: right;\">\n",
       "      <th></th>\n",
       "      <th>B</th>\n",
       "      <th>D</th>\n",
       "    </tr>\n",
       "  </thead>\n",
       "  <tbody>\n",
       "    <tr>\n",
       "      <th>2017-09-20</th>\n",
       "      <td>-0.326414</td>\n",
       "      <td>-1.411040</td>\n",
       "    </tr>\n",
       "    <tr>\n",
       "      <th>2017-09-21</th>\n",
       "      <td>0.677818</td>\n",
       "      <td>-1.923501</td>\n",
       "    </tr>\n",
       "    <tr>\n",
       "      <th>2017-09-22</th>\n",
       "      <td>-0.978050</td>\n",
       "      <td>-0.097844</td>\n",
       "    </tr>\n",
       "  </tbody>\n",
       "</table>\n",
       "</div>"
      ],
      "text/plain": [
       "                   B         D\n",
       "2017-09-20 -0.326414 -1.411040\n",
       "2017-09-21  0.677818 -1.923501\n",
       "2017-09-22 -0.978050 -0.097844"
      ]
     },
     "execution_count": 33,
     "metadata": {},
     "output_type": "execute_result"
    }
   ],
   "source": [
    "df.loc['20170920':'20170922',['B','D']]"
   ]
  },
  {
   "cell_type": "code",
   "execution_count": 34,
   "metadata": {},
   "outputs": [
    {
     "data": {
      "text/plain": [
       "A   -1.119354\n",
       "B   -0.326414\n",
       "Name: 2017-09-20 00:00:00, dtype: float64"
      ]
     },
     "execution_count": 34,
     "metadata": {},
     "output_type": "execute_result"
    }
   ],
   "source": [
    "df.loc['20170920',['A','B']]"
   ]
  },
  {
   "cell_type": "code",
   "execution_count": 35,
   "metadata": {},
   "outputs": [
    {
     "data": {
      "text/plain": [
       "0.95369062658671511"
      ]
     },
     "execution_count": 35,
     "metadata": {},
     "output_type": "execute_result"
    }
   ],
   "source": [
    "df.at[dates[1],'E']"
   ]
  },
  {
   "cell_type": "code",
   "execution_count": 36,
   "metadata": {},
   "outputs": [
    {
     "data": {
      "text/plain": [
       "A   -1.119354\n",
       "B   -0.326414\n",
       "C   -0.022812\n",
       "D   -1.411040\n",
       "E    1.811851\n",
       "Name: 2017-09-20 00:00:00, dtype: float64"
      ]
     },
     "execution_count": 36,
     "metadata": {},
     "output_type": "execute_result"
    }
   ],
   "source": [
    "df.iloc[2]"
   ]
  },
  {
   "cell_type": "code",
   "execution_count": 41,
   "metadata": {},
   "outputs": [
    {
     "data": {
      "text/html": [
       "<div>\n",
       "<style>\n",
       "    .dataframe thead tr:only-child th {\n",
       "        text-align: right;\n",
       "    }\n",
       "\n",
       "    .dataframe thead th {\n",
       "        text-align: left;\n",
       "    }\n",
       "\n",
       "    .dataframe tbody tr th {\n",
       "        vertical-align: top;\n",
       "    }\n",
       "</style>\n",
       "<table border=\"1\" class=\"dataframe\">\n",
       "  <thead>\n",
       "    <tr style=\"text-align: right;\">\n",
       "      <th></th>\n",
       "      <th>A</th>\n",
       "      <th>B</th>\n",
       "    </tr>\n",
       "  </thead>\n",
       "  <tbody>\n",
       "    <tr>\n",
       "      <th>2017-09-18</th>\n",
       "      <td>0.623726</td>\n",
       "      <td>0.555961</td>\n",
       "    </tr>\n",
       "    <tr>\n",
       "      <th>2017-09-19</th>\n",
       "      <td>-1.261741</td>\n",
       "      <td>1.611252</td>\n",
       "    </tr>\n",
       "    <tr>\n",
       "      <th>2017-09-20</th>\n",
       "      <td>-1.119354</td>\n",
       "      <td>-0.326414</td>\n",
       "    </tr>\n",
       "  </tbody>\n",
       "</table>\n",
       "</div>"
      ],
      "text/plain": [
       "                   A         B\n",
       "2017-09-18  0.623726  0.555961\n",
       "2017-09-19 -1.261741  1.611252\n",
       "2017-09-20 -1.119354 -0.326414"
      ]
     },
     "execution_count": 41,
     "metadata": {},
     "output_type": "execute_result"
    }
   ],
   "source": [
    "df.iloc[0:3,0:2]"
   ]
  },
  {
   "cell_type": "code",
   "execution_count": 42,
   "metadata": {},
   "outputs": [
    {
     "data": {
      "text/plain": [
       "0.62372561093561163"
      ]
     },
     "execution_count": 42,
     "metadata": {},
     "output_type": "execute_result"
    }
   ],
   "source": [
    "df.iloc[0,0]"
   ]
  },
  {
   "cell_type": "code",
   "execution_count": 43,
   "metadata": {},
   "outputs": [
    {
     "data": {
      "text/html": [
       "<div>\n",
       "<style>\n",
       "    .dataframe thead tr:only-child th {\n",
       "        text-align: right;\n",
       "    }\n",
       "\n",
       "    .dataframe thead th {\n",
       "        text-align: left;\n",
       "    }\n",
       "\n",
       "    .dataframe tbody tr th {\n",
       "        vertical-align: top;\n",
       "    }\n",
       "</style>\n",
       "<table border=\"1\" class=\"dataframe\">\n",
       "  <thead>\n",
       "    <tr style=\"text-align: right;\">\n",
       "      <th></th>\n",
       "      <th>A</th>\n",
       "      <th>B</th>\n",
       "      <th>C</th>\n",
       "      <th>D</th>\n",
       "      <th>E</th>\n",
       "    </tr>\n",
       "  </thead>\n",
       "  <tbody>\n",
       "    <tr>\n",
       "      <th>2017-09-18</th>\n",
       "      <td>0.623726</td>\n",
       "      <td>0.555961</td>\n",
       "      <td>0.554159</td>\n",
       "      <td>0.207624</td>\n",
       "      <td>-1.334903</td>\n",
       "    </tr>\n",
       "    <tr>\n",
       "      <th>2017-09-21</th>\n",
       "      <td>2.078707</td>\n",
       "      <td>0.677818</td>\n",
       "      <td>1.162163</td>\n",
       "      <td>-1.923501</td>\n",
       "      <td>0.458266</td>\n",
       "    </tr>\n",
       "    <tr>\n",
       "      <th>2017-09-22</th>\n",
       "      <td>0.279650</td>\n",
       "      <td>-0.978050</td>\n",
       "      <td>-0.401023</td>\n",
       "      <td>-0.097844</td>\n",
       "      <td>0.211954</td>\n",
       "    </tr>\n",
       "    <tr>\n",
       "      <th>2017-09-23</th>\n",
       "      <td>0.588165</td>\n",
       "      <td>-0.221428</td>\n",
       "      <td>1.187948</td>\n",
       "      <td>-0.179808</td>\n",
       "      <td>0.366893</td>\n",
       "    </tr>\n",
       "  </tbody>\n",
       "</table>\n",
       "</div>"
      ],
      "text/plain": [
       "                   A         B         C         D         E\n",
       "2017-09-18  0.623726  0.555961  0.554159  0.207624 -1.334903\n",
       "2017-09-21  2.078707  0.677818  1.162163 -1.923501  0.458266\n",
       "2017-09-22  0.279650 -0.978050 -0.401023 -0.097844  0.211954\n",
       "2017-09-23  0.588165 -0.221428  1.187948 -0.179808  0.366893"
      ]
     },
     "execution_count": 43,
     "metadata": {},
     "output_type": "execute_result"
    }
   ],
   "source": [
    "df[df.A>0]"
   ]
  },
  {
   "cell_type": "code",
   "execution_count": 44,
   "metadata": {},
   "outputs": [
    {
     "data": {
      "text/html": [
       "<div>\n",
       "<style>\n",
       "    .dataframe thead tr:only-child th {\n",
       "        text-align: right;\n",
       "    }\n",
       "\n",
       "    .dataframe thead th {\n",
       "        text-align: left;\n",
       "    }\n",
       "\n",
       "    .dataframe tbody tr th {\n",
       "        vertical-align: top;\n",
       "    }\n",
       "</style>\n",
       "<table border=\"1\" class=\"dataframe\">\n",
       "  <thead>\n",
       "    <tr style=\"text-align: right;\">\n",
       "      <th></th>\n",
       "      <th>A</th>\n",
       "      <th>B</th>\n",
       "      <th>C</th>\n",
       "      <th>D</th>\n",
       "      <th>E</th>\n",
       "    </tr>\n",
       "  </thead>\n",
       "  <tbody>\n",
       "    <tr>\n",
       "      <th>2017-09-18</th>\n",
       "      <td>0.623726</td>\n",
       "      <td>0.555961</td>\n",
       "      <td>0.554159</td>\n",
       "      <td>0.207624</td>\n",
       "      <td>NaN</td>\n",
       "    </tr>\n",
       "    <tr>\n",
       "      <th>2017-09-19</th>\n",
       "      <td>NaN</td>\n",
       "      <td>1.611252</td>\n",
       "      <td>NaN</td>\n",
       "      <td>NaN</td>\n",
       "      <td>0.953691</td>\n",
       "    </tr>\n",
       "    <tr>\n",
       "      <th>2017-09-20</th>\n",
       "      <td>NaN</td>\n",
       "      <td>NaN</td>\n",
       "      <td>NaN</td>\n",
       "      <td>NaN</td>\n",
       "      <td>1.811851</td>\n",
       "    </tr>\n",
       "    <tr>\n",
       "      <th>2017-09-21</th>\n",
       "      <td>2.078707</td>\n",
       "      <td>0.677818</td>\n",
       "      <td>1.162163</td>\n",
       "      <td>NaN</td>\n",
       "      <td>0.458266</td>\n",
       "    </tr>\n",
       "    <tr>\n",
       "      <th>2017-09-22</th>\n",
       "      <td>0.279650</td>\n",
       "      <td>NaN</td>\n",
       "      <td>NaN</td>\n",
       "      <td>NaN</td>\n",
       "      <td>0.211954</td>\n",
       "    </tr>\n",
       "    <tr>\n",
       "      <th>2017-09-23</th>\n",
       "      <td>0.588165</td>\n",
       "      <td>NaN</td>\n",
       "      <td>1.187948</td>\n",
       "      <td>NaN</td>\n",
       "      <td>0.366893</td>\n",
       "    </tr>\n",
       "    <tr>\n",
       "      <th>2017-09-24</th>\n",
       "      <td>NaN</td>\n",
       "      <td>1.224259</td>\n",
       "      <td>NaN</td>\n",
       "      <td>0.314949</td>\n",
       "      <td>0.245683</td>\n",
       "    </tr>\n",
       "  </tbody>\n",
       "</table>\n",
       "</div>"
      ],
      "text/plain": [
       "                   A         B         C         D         E\n",
       "2017-09-18  0.623726  0.555961  0.554159  0.207624       NaN\n",
       "2017-09-19       NaN  1.611252       NaN       NaN  0.953691\n",
       "2017-09-20       NaN       NaN       NaN       NaN  1.811851\n",
       "2017-09-21  2.078707  0.677818  1.162163       NaN  0.458266\n",
       "2017-09-22  0.279650       NaN       NaN       NaN  0.211954\n",
       "2017-09-23  0.588165       NaN  1.187948       NaN  0.366893\n",
       "2017-09-24       NaN  1.224259       NaN  0.314949  0.245683"
      ]
     },
     "execution_count": 44,
     "metadata": {},
     "output_type": "execute_result"
    }
   ],
   "source": [
    "df[df>0]"
   ]
  },
  {
   "cell_type": "code",
   "execution_count": 46,
   "metadata": {},
   "outputs": [],
   "source": [
    "df2 =df.copy()"
   ]
  },
  {
   "cell_type": "code",
   "execution_count": 47,
   "metadata": {},
   "outputs": [
    {
     "data": {
      "text/html": [
       "<div>\n",
       "<style>\n",
       "    .dataframe thead tr:only-child th {\n",
       "        text-align: right;\n",
       "    }\n",
       "\n",
       "    .dataframe thead th {\n",
       "        text-align: left;\n",
       "    }\n",
       "\n",
       "    .dataframe tbody tr th {\n",
       "        vertical-align: top;\n",
       "    }\n",
       "</style>\n",
       "<table border=\"1\" class=\"dataframe\">\n",
       "  <thead>\n",
       "    <tr style=\"text-align: right;\">\n",
       "      <th></th>\n",
       "      <th>A</th>\n",
       "      <th>B</th>\n",
       "      <th>C</th>\n",
       "      <th>D</th>\n",
       "      <th>E</th>\n",
       "    </tr>\n",
       "  </thead>\n",
       "  <tbody>\n",
       "    <tr>\n",
       "      <th>2017-09-18</th>\n",
       "      <td>0.623726</td>\n",
       "      <td>0.555961</td>\n",
       "      <td>0.554159</td>\n",
       "      <td>0.207624</td>\n",
       "      <td>-1.334903</td>\n",
       "    </tr>\n",
       "    <tr>\n",
       "      <th>2017-09-19</th>\n",
       "      <td>-1.261741</td>\n",
       "      <td>1.611252</td>\n",
       "      <td>-1.073116</td>\n",
       "      <td>-1.968401</td>\n",
       "      <td>0.953691</td>\n",
       "    </tr>\n",
       "    <tr>\n",
       "      <th>2017-09-20</th>\n",
       "      <td>-1.119354</td>\n",
       "      <td>-0.326414</td>\n",
       "      <td>-0.022812</td>\n",
       "      <td>-1.411040</td>\n",
       "      <td>1.811851</td>\n",
       "    </tr>\n",
       "    <tr>\n",
       "      <th>2017-09-21</th>\n",
       "      <td>2.078707</td>\n",
       "      <td>0.677818</td>\n",
       "      <td>1.162163</td>\n",
       "      <td>-1.923501</td>\n",
       "      <td>0.458266</td>\n",
       "    </tr>\n",
       "    <tr>\n",
       "      <th>2017-09-22</th>\n",
       "      <td>0.279650</td>\n",
       "      <td>-0.978050</td>\n",
       "      <td>-0.401023</td>\n",
       "      <td>-0.097844</td>\n",
       "      <td>0.211954</td>\n",
       "    </tr>\n",
       "    <tr>\n",
       "      <th>2017-09-23</th>\n",
       "      <td>0.588165</td>\n",
       "      <td>-0.221428</td>\n",
       "      <td>1.187948</td>\n",
       "      <td>-0.179808</td>\n",
       "      <td>0.366893</td>\n",
       "    </tr>\n",
       "    <tr>\n",
       "      <th>2017-09-24</th>\n",
       "      <td>-1.003102</td>\n",
       "      <td>1.224259</td>\n",
       "      <td>-0.085742</td>\n",
       "      <td>0.314949</td>\n",
       "      <td>0.245683</td>\n",
       "    </tr>\n",
       "  </tbody>\n",
       "</table>\n",
       "</div>"
      ],
      "text/plain": [
       "                   A         B         C         D         E\n",
       "2017-09-18  0.623726  0.555961  0.554159  0.207624 -1.334903\n",
       "2017-09-19 -1.261741  1.611252 -1.073116 -1.968401  0.953691\n",
       "2017-09-20 -1.119354 -0.326414 -0.022812 -1.411040  1.811851\n",
       "2017-09-21  2.078707  0.677818  1.162163 -1.923501  0.458266\n",
       "2017-09-22  0.279650 -0.978050 -0.401023 -0.097844  0.211954\n",
       "2017-09-23  0.588165 -0.221428  1.187948 -0.179808  0.366893\n",
       "2017-09-24 -1.003102  1.224259 -0.085742  0.314949  0.245683"
      ]
     },
     "execution_count": 47,
     "metadata": {},
     "output_type": "execute_result"
    }
   ],
   "source": [
    "df"
   ]
  },
  {
   "cell_type": "code",
   "execution_count": 48,
   "metadata": {},
   "outputs": [
    {
     "data": {
      "text/html": [
       "<div>\n",
       "<style>\n",
       "    .dataframe thead tr:only-child th {\n",
       "        text-align: right;\n",
       "    }\n",
       "\n",
       "    .dataframe thead th {\n",
       "        text-align: left;\n",
       "    }\n",
       "\n",
       "    .dataframe tbody tr th {\n",
       "        vertical-align: top;\n",
       "    }\n",
       "</style>\n",
       "<table border=\"1\" class=\"dataframe\">\n",
       "  <thead>\n",
       "    <tr style=\"text-align: right;\">\n",
       "      <th></th>\n",
       "      <th>A</th>\n",
       "      <th>B</th>\n",
       "      <th>C</th>\n",
       "      <th>D</th>\n",
       "      <th>E</th>\n",
       "    </tr>\n",
       "  </thead>\n",
       "  <tbody>\n",
       "    <tr>\n",
       "      <th>2017-09-18</th>\n",
       "      <td>0.623726</td>\n",
       "      <td>0.555961</td>\n",
       "      <td>0.554159</td>\n",
       "      <td>0.207624</td>\n",
       "      <td>-1.334903</td>\n",
       "    </tr>\n",
       "    <tr>\n",
       "      <th>2017-09-19</th>\n",
       "      <td>-1.261741</td>\n",
       "      <td>1.611252</td>\n",
       "      <td>-1.073116</td>\n",
       "      <td>-1.968401</td>\n",
       "      <td>0.953691</td>\n",
       "    </tr>\n",
       "    <tr>\n",
       "      <th>2017-09-20</th>\n",
       "      <td>-1.119354</td>\n",
       "      <td>-0.326414</td>\n",
       "      <td>-0.022812</td>\n",
       "      <td>-1.411040</td>\n",
       "      <td>1.811851</td>\n",
       "    </tr>\n",
       "    <tr>\n",
       "      <th>2017-09-21</th>\n",
       "      <td>2.078707</td>\n",
       "      <td>0.677818</td>\n",
       "      <td>1.162163</td>\n",
       "      <td>-1.923501</td>\n",
       "      <td>0.458266</td>\n",
       "    </tr>\n",
       "    <tr>\n",
       "      <th>2017-09-22</th>\n",
       "      <td>0.279650</td>\n",
       "      <td>-0.978050</td>\n",
       "      <td>-0.401023</td>\n",
       "      <td>-0.097844</td>\n",
       "      <td>0.211954</td>\n",
       "    </tr>\n",
       "    <tr>\n",
       "      <th>2017-09-23</th>\n",
       "      <td>0.588165</td>\n",
       "      <td>-0.221428</td>\n",
       "      <td>1.187948</td>\n",
       "      <td>-0.179808</td>\n",
       "      <td>0.366893</td>\n",
       "    </tr>\n",
       "    <tr>\n",
       "      <th>2017-09-24</th>\n",
       "      <td>-1.003102</td>\n",
       "      <td>1.224259</td>\n",
       "      <td>-0.085742</td>\n",
       "      <td>0.314949</td>\n",
       "      <td>0.245683</td>\n",
       "    </tr>\n",
       "  </tbody>\n",
       "</table>\n",
       "</div>"
      ],
      "text/plain": [
       "                   A         B         C         D         E\n",
       "2017-09-18  0.623726  0.555961  0.554159  0.207624 -1.334903\n",
       "2017-09-19 -1.261741  1.611252 -1.073116 -1.968401  0.953691\n",
       "2017-09-20 -1.119354 -0.326414 -0.022812 -1.411040  1.811851\n",
       "2017-09-21  2.078707  0.677818  1.162163 -1.923501  0.458266\n",
       "2017-09-22  0.279650 -0.978050 -0.401023 -0.097844  0.211954\n",
       "2017-09-23  0.588165 -0.221428  1.187948 -0.179808  0.366893\n",
       "2017-09-24 -1.003102  1.224259 -0.085742  0.314949  0.245683"
      ]
     },
     "execution_count": 48,
     "metadata": {},
     "output_type": "execute_result"
    }
   ],
   "source": [
    "df2"
   ]
  },
  {
   "cell_type": "code",
   "execution_count": 49,
   "metadata": {
    "collapsed": true
   },
   "outputs": [],
   "source": [
    "df2['F'] = ['true','true','true','false','true','true','false']"
   ]
  },
  {
   "cell_type": "code",
   "execution_count": 50,
   "metadata": {},
   "outputs": [
    {
     "data": {
      "text/html": [
       "<div>\n",
       "<style>\n",
       "    .dataframe thead tr:only-child th {\n",
       "        text-align: right;\n",
       "    }\n",
       "\n",
       "    .dataframe thead th {\n",
       "        text-align: left;\n",
       "    }\n",
       "\n",
       "    .dataframe tbody tr th {\n",
       "        vertical-align: top;\n",
       "    }\n",
       "</style>\n",
       "<table border=\"1\" class=\"dataframe\">\n",
       "  <thead>\n",
       "    <tr style=\"text-align: right;\">\n",
       "      <th></th>\n",
       "      <th>A</th>\n",
       "      <th>B</th>\n",
       "      <th>C</th>\n",
       "      <th>D</th>\n",
       "      <th>E</th>\n",
       "      <th>F</th>\n",
       "    </tr>\n",
       "  </thead>\n",
       "  <tbody>\n",
       "    <tr>\n",
       "      <th>2017-09-18</th>\n",
       "      <td>0.623726</td>\n",
       "      <td>0.555961</td>\n",
       "      <td>0.554159</td>\n",
       "      <td>0.207624</td>\n",
       "      <td>-1.334903</td>\n",
       "      <td>true</td>\n",
       "    </tr>\n",
       "    <tr>\n",
       "      <th>2017-09-19</th>\n",
       "      <td>-1.261741</td>\n",
       "      <td>1.611252</td>\n",
       "      <td>-1.073116</td>\n",
       "      <td>-1.968401</td>\n",
       "      <td>0.953691</td>\n",
       "      <td>true</td>\n",
       "    </tr>\n",
       "    <tr>\n",
       "      <th>2017-09-20</th>\n",
       "      <td>-1.119354</td>\n",
       "      <td>-0.326414</td>\n",
       "      <td>-0.022812</td>\n",
       "      <td>-1.411040</td>\n",
       "      <td>1.811851</td>\n",
       "      <td>true</td>\n",
       "    </tr>\n",
       "    <tr>\n",
       "      <th>2017-09-21</th>\n",
       "      <td>2.078707</td>\n",
       "      <td>0.677818</td>\n",
       "      <td>1.162163</td>\n",
       "      <td>-1.923501</td>\n",
       "      <td>0.458266</td>\n",
       "      <td>false</td>\n",
       "    </tr>\n",
       "    <tr>\n",
       "      <th>2017-09-22</th>\n",
       "      <td>0.279650</td>\n",
       "      <td>-0.978050</td>\n",
       "      <td>-0.401023</td>\n",
       "      <td>-0.097844</td>\n",
       "      <td>0.211954</td>\n",
       "      <td>true</td>\n",
       "    </tr>\n",
       "    <tr>\n",
       "      <th>2017-09-23</th>\n",
       "      <td>0.588165</td>\n",
       "      <td>-0.221428</td>\n",
       "      <td>1.187948</td>\n",
       "      <td>-0.179808</td>\n",
       "      <td>0.366893</td>\n",
       "      <td>true</td>\n",
       "    </tr>\n",
       "    <tr>\n",
       "      <th>2017-09-24</th>\n",
       "      <td>-1.003102</td>\n",
       "      <td>1.224259</td>\n",
       "      <td>-0.085742</td>\n",
       "      <td>0.314949</td>\n",
       "      <td>0.245683</td>\n",
       "      <td>false</td>\n",
       "    </tr>\n",
       "  </tbody>\n",
       "</table>\n",
       "</div>"
      ],
      "text/plain": [
       "                   A         B         C         D         E      F\n",
       "2017-09-18  0.623726  0.555961  0.554159  0.207624 -1.334903   true\n",
       "2017-09-19 -1.261741  1.611252 -1.073116 -1.968401  0.953691   true\n",
       "2017-09-20 -1.119354 -0.326414 -0.022812 -1.411040  1.811851   true\n",
       "2017-09-21  2.078707  0.677818  1.162163 -1.923501  0.458266  false\n",
       "2017-09-22  0.279650 -0.978050 -0.401023 -0.097844  0.211954   true\n",
       "2017-09-23  0.588165 -0.221428  1.187948 -0.179808  0.366893   true\n",
       "2017-09-24 -1.003102  1.224259 -0.085742  0.314949  0.245683  false"
      ]
     },
     "execution_count": 50,
     "metadata": {},
     "output_type": "execute_result"
    }
   ],
   "source": [
    "df2"
   ]
  },
  {
   "cell_type": "code",
   "execution_count": 51,
   "metadata": {},
   "outputs": [
    {
     "data": {
      "text/html": [
       "<div>\n",
       "<style>\n",
       "    .dataframe thead tr:only-child th {\n",
       "        text-align: right;\n",
       "    }\n",
       "\n",
       "    .dataframe thead th {\n",
       "        text-align: left;\n",
       "    }\n",
       "\n",
       "    .dataframe tbody tr th {\n",
       "        vertical-align: top;\n",
       "    }\n",
       "</style>\n",
       "<table border=\"1\" class=\"dataframe\">\n",
       "  <thead>\n",
       "    <tr style=\"text-align: right;\">\n",
       "      <th></th>\n",
       "      <th>A</th>\n",
       "      <th>B</th>\n",
       "      <th>C</th>\n",
       "      <th>D</th>\n",
       "      <th>E</th>\n",
       "      <th>F</th>\n",
       "    </tr>\n",
       "  </thead>\n",
       "  <tbody>\n",
       "    <tr>\n",
       "      <th>2017-09-18</th>\n",
       "      <td>0.623726</td>\n",
       "      <td>0.555961</td>\n",
       "      <td>0.554159</td>\n",
       "      <td>0.207624</td>\n",
       "      <td>-1.334903</td>\n",
       "      <td>true</td>\n",
       "    </tr>\n",
       "    <tr>\n",
       "      <th>2017-09-19</th>\n",
       "      <td>-1.261741</td>\n",
       "      <td>1.611252</td>\n",
       "      <td>-1.073116</td>\n",
       "      <td>-1.968401</td>\n",
       "      <td>0.953691</td>\n",
       "      <td>true</td>\n",
       "    </tr>\n",
       "    <tr>\n",
       "      <th>2017-09-20</th>\n",
       "      <td>-1.119354</td>\n",
       "      <td>-0.326414</td>\n",
       "      <td>-0.022812</td>\n",
       "      <td>-1.411040</td>\n",
       "      <td>1.811851</td>\n",
       "      <td>true</td>\n",
       "    </tr>\n",
       "    <tr>\n",
       "      <th>2017-09-22</th>\n",
       "      <td>0.279650</td>\n",
       "      <td>-0.978050</td>\n",
       "      <td>-0.401023</td>\n",
       "      <td>-0.097844</td>\n",
       "      <td>0.211954</td>\n",
       "      <td>true</td>\n",
       "    </tr>\n",
       "    <tr>\n",
       "      <th>2017-09-23</th>\n",
       "      <td>0.588165</td>\n",
       "      <td>-0.221428</td>\n",
       "      <td>1.187948</td>\n",
       "      <td>-0.179808</td>\n",
       "      <td>0.366893</td>\n",
       "      <td>true</td>\n",
       "    </tr>\n",
       "  </tbody>\n",
       "</table>\n",
       "</div>"
      ],
      "text/plain": [
       "                   A         B         C         D         E     F\n",
       "2017-09-18  0.623726  0.555961  0.554159  0.207624 -1.334903  true\n",
       "2017-09-19 -1.261741  1.611252 -1.073116 -1.968401  0.953691  true\n",
       "2017-09-20 -1.119354 -0.326414 -0.022812 -1.411040  1.811851  true\n",
       "2017-09-22  0.279650 -0.978050 -0.401023 -0.097844  0.211954  true\n",
       "2017-09-23  0.588165 -0.221428  1.187948 -0.179808  0.366893  true"
      ]
     },
     "execution_count": 51,
     "metadata": {},
     "output_type": "execute_result"
    }
   ],
   "source": [
    "df2[df2['F'].isin(['true'])]"
   ]
  },
  {
   "cell_type": "code",
   "execution_count": null,
   "metadata": {
    "collapsed": true
   },
   "outputs": [],
   "source": [
    "\n",
    "\n"
   ]
  }
 ],
 "metadata": {
  "kernelspec": {
   "display_name": "Python 3",
   "language": "python",
   "name": "python3"
  },
  "language_info": {
   "codemirror_mode": {
    "name": "ipython",
    "version": 3
   },
   "file_extension": ".py",
   "mimetype": "text/x-python",
   "name": "python",
   "nbconvert_exporter": "python",
   "pygments_lexer": "ipython3",
   "version": "3.6.1"
  }
 },
 "nbformat": 4,
 "nbformat_minor": 2
}
