{
 "cells": [
  {
   "cell_type": "code",
   "execution_count": 12,
   "metadata": {
    "collapsed": true
   },
   "outputs": [],
   "source": [
    "import pandas as pd\n",
    "import numpy as np\n",
    "from datetime import datetime\n",
    "from dateutil.relativedelta import relativedelta\n",
    "%matplotlib inline"
   ]
  },
  {
   "cell_type": "code",
   "execution_count": 2,
   "metadata": {
    "collapsed": true
   },
   "outputs": [],
   "source": [
    "def get_obs_days(dt):\n",
    "    dt = pd.to_datetime(dt)\n",
    "    a = dt + relativedelta(months=1)\n",
    "    b = dt + relativedelta(months=2)\n",
    "    c = dt + relativedelta(months=3)\n",
    "    d = dt + relativedelta(months=4)\n",
    "    e = dt + relativedelta(months=5)\n",
    "    f = dt + relativedelta(months=6)\n",
    "    l = [a,b,c,d,e,f]\n",
    "    return l"
   ]
  },
  {
   "cell_type": "code",
   "execution_count": 3,
   "metadata": {
    "collapsed": true
   },
   "outputs": [],
   "source": [
    "def split_df(df,dt):\n",
    "    dt = pd.to_datetime(dt)\n",
    "    l = get_obs_days(dt)\n",
    "    df1 = df[dt:l[0]] \n",
    "    df2 = df[l[0]:l[1]]\n",
    "    df3 = df[l[1]:l[2]]\n",
    "    df4 = df[l[2]:l[3]]\n",
    "    df5 = df[l[3]:l[4]]\n",
    "    df6 = df[l[4]:l[5]]\n",
    "    list = [df1,df2,df3,df4,df5,df6]\n",
    "    return list"
   ]
  },
  {
   "cell_type": "code",
   "execution_count": 4,
   "metadata": {
    "collapsed": true
   },
   "outputs": [],
   "source": [
    "def month_pro(df, open_price, lowerbond, rate):\n",
    "    knock_out = 0\n",
    "    profit = 0\n",
    "    loss= 0\n",
    "    a = df[-1:].close.max()\n",
    "    b = open_price.close.max()\n",
    "    c = lowerbond.close.max()\n",
    "    if a > b:\n",
    "        print ('knock-out, knock-out!')\n",
    "        profit = rate\n",
    "        knock_out = 1\n",
    "    elif a >= c:\n",
    "        profit = rate\n",
    "    else:\n",
    "        profit = 0\n",
    "    return [knock_out, profit]   "
   ]
  },
  {
   "cell_type": "code",
   "execution_count": 44,
   "metadata": {
    "collapsed": true
   },
   "outputs": [],
   "source": [
    "def knock_in(df, dt, mths, lowerbond):\n",
    "    knock_in = 0\n",
    "    dt = pd.to_datetime(dt)\n",
    "    y = dt + relativedelta(months= mths )\n",
    "    df1 = df[dt:y]\n",
    "    df1.plot()\n",
    "    if np.isnan(df1[df1 < lowerbond.close.min()].close.min())== 1:\n",
    "        print ('did not knock-in!' )\n",
    "        knock_in =1\n",
    "        return knock_in\n",
    "    else: \n",
    "        print ('knock-in, knock-in!')\n",
    "        return knock_in"
   ]
  },
  {
   "cell_type": "code",
   "execution_count": 86,
   "metadata": {
    "collapsed": true
   },
   "outputs": [],
   "source": [
    "def final_rtn(df,dt,open_price, mths, m,cum_pro):\n",
    "    dt = pd.to_datetime(dt)\n",
    "    y = dt + relativedelta(months= mths )\n",
    "    df1 = df[dt:y] \n",
    "    if ((df1[-1:].close.min() < open_price.close.min()) and (m == 0) )== True:\n",
    "        final_rtn = cum_pro + ((df1[-1:].close.min() - open_price.close.min())/open_price.close.min())\n",
    "        #print('hi')\n",
    "    else:\n",
    "        final_rtn = cum_pro\n",
    "    return final_rtn"
   ]
  },
  {
   "cell_type": "code",
   "execution_count": 87,
   "metadata": {
    "collapsed": true
   },
   "outputs": [],
   "source": [
    "def phoenix_rtn(df, dt, months, rtn_rate, low_rate=0.7):\n",
    "    list = split_df(df, dt)\n",
    "    open_price = list[0][0:1]\n",
    "    lowerbond = open_price*low_rate\n",
    "    cum_pro = 0\n",
    "    for i in list:\n",
    "        result = month_pro(i, open_price, lowerbond, rtn_rate)\n",
    "        cum_pro = cum_pro + result[1]\n",
    "        if result[0] == 1:\n",
    "            break\n",
    "    m = knock_in(df, dt, months,lowerbond)\n",
    "    total_rtn = final_rtn(df, dt, open_price, months, m, cum_pro)\n",
    "    return total_rtn\n",
    "\n",
    "    "
   ]
  },
  {
   "cell_type": "code",
   "execution_count": 116,
   "metadata": {
    "scrolled": true
   },
   "outputs": [],
   "source": [
    "df = pd.read_hdf('C:/Users/Administrator/Desktop/Work/Projects/Autocall/new000567.h5')\n",
    "df.index = pd.to_datetime(df.index)"
   ]
  },
  {
   "cell_type": "code",
   "execution_count": 124,
   "metadata": {},
   "outputs": [
    {
     "name": "stdout",
     "output_type": "stream",
     "text": [
      "knock-in, knock-in!\n"
     ]
    },
    {
     "data": {
      "text/plain": [
       "-0.24130484723179418"
      ]
     },
     "execution_count": 124,
     "metadata": {},
     "output_type": "execute_result"
    },
    {
     "data": {
      "image/png": "[encoded data removed]",
      "text/plain": [
       "<matplotlib.figure.Figure at 0xbf9c5c0>"
      ]
     },
     "metadata": {},
     "output_type": "display_data"
    }
   ],
   "source": [
    "phoenix_rtn(df, '2016-11-15', 6, 0.04, 0.6)"
   ]
  },
  {
   "cell_type": "code",
   "execution_count": 41,
   "metadata": {
    "scrolled": true
   },
   "outputs": [
    {
     "data": {
      "text/html": [
       "<div>\n",
       "<style>\n",
       "    .dataframe thead tr:only-child th {\n",
       "        text-align: right;\n",
       "    }\n",
       "\n",
       "    .dataframe thead th {\n",
       "        text-align: left;\n",
       "    }\n",
       "\n",
       "    .dataframe tbody tr th {\n",
       "        vertical-align: top;\n",
       "    }\n",
       "</style>\n",
       "<table border=\"1\" class=\"dataframe\">\n",
       "  <thead>\n",
       "    <tr style=\"text-align: right;\">\n",
       "      <th></th>\n",
       "      <th>close</th>\n",
       "    </tr>\n",
       "    <tr>\n",
       "      <th>day</th>\n",
       "      <th></th>\n",
       "    </tr>\n",
       "  </thead>\n",
       "  <tbody>\n",
       "    <tr>\n",
       "      <th>2017-01-05</th>\n",
       "      <td>100.00</td>\n",
       "    </tr>\n",
       "    <tr>\n",
       "      <th>2017-01-06</th>\n",
       "      <td>99.00</td>\n",
       "    </tr>\n",
       "    <tr>\n",
       "      <th>2017-01-07</th>\n",
       "      <td>98.00</td>\n",
       "    </tr>\n",
       "    <tr>\n",
       "      <th>2017-01-08</th>\n",
       "      <td>97.00</td>\n",
       "    </tr>\n",
       "    <tr>\n",
       "      <th>2017-01-09</th>\n",
       "      <td>96.00</td>\n",
       "    </tr>\n",
       "    <tr>\n",
       "      <th>2017-01-10</th>\n",
       "      <td>95.00</td>\n",
       "    </tr>\n",
       "    <tr>\n",
       "      <th>2017-01-11</th>\n",
       "      <td>94.00</td>\n",
       "    </tr>\n",
       "    <tr>\n",
       "      <th>2017-01-12</th>\n",
       "      <td>93.00</td>\n",
       "    </tr>\n",
       "    <tr>\n",
       "      <th>2017-01-13</th>\n",
       "      <td>92.00</td>\n",
       "    </tr>\n",
       "    <tr>\n",
       "      <th>2017-01-14</th>\n",
       "      <td>91.00</td>\n",
       "    </tr>\n",
       "    <tr>\n",
       "      <th>2017-01-15</th>\n",
       "      <td>90.00</td>\n",
       "    </tr>\n",
       "    <tr>\n",
       "      <th>2017-01-16</th>\n",
       "      <td>89.00</td>\n",
       "    </tr>\n",
       "    <tr>\n",
       "      <th>2017-01-17</th>\n",
       "      <td>88.00</td>\n",
       "    </tr>\n",
       "    <tr>\n",
       "      <th>2017-01-18</th>\n",
       "      <td>87.00</td>\n",
       "    </tr>\n",
       "    <tr>\n",
       "      <th>2017-01-19</th>\n",
       "      <td>86.00</td>\n",
       "    </tr>\n",
       "    <tr>\n",
       "      <th>2017-01-20</th>\n",
       "      <td>85.00</td>\n",
       "    </tr>\n",
       "    <tr>\n",
       "      <th>2017-01-21</th>\n",
       "      <td>84.00</td>\n",
       "    </tr>\n",
       "    <tr>\n",
       "      <th>2017-01-22</th>\n",
       "      <td>83.00</td>\n",
       "    </tr>\n",
       "    <tr>\n",
       "      <th>2017-01-23</th>\n",
       "      <td>82.00</td>\n",
       "    </tr>\n",
       "    <tr>\n",
       "      <th>2017-01-24</th>\n",
       "      <td>81.00</td>\n",
       "    </tr>\n",
       "    <tr>\n",
       "      <th>2017-01-25</th>\n",
       "      <td>80.00</td>\n",
       "    </tr>\n",
       "    <tr>\n",
       "      <th>2017-01-26</th>\n",
       "      <td>79.00</td>\n",
       "    </tr>\n",
       "    <tr>\n",
       "      <th>2017-01-27</th>\n",
       "      <td>78.00</td>\n",
       "    </tr>\n",
       "    <tr>\n",
       "      <th>2017-01-28</th>\n",
       "      <td>77.00</td>\n",
       "    </tr>\n",
       "    <tr>\n",
       "      <th>2017-01-29</th>\n",
       "      <td>75.00</td>\n",
       "    </tr>\n",
       "    <tr>\n",
       "      <th>2017-01-30</th>\n",
       "      <td>73.00</td>\n",
       "    </tr>\n",
       "    <tr>\n",
       "      <th>2017-01-31</th>\n",
       "      <td>71.00</td>\n",
       "    </tr>\n",
       "    <tr>\n",
       "      <th>2017-02-01</th>\n",
       "      <td>69.00</td>\n",
       "    </tr>\n",
       "    <tr>\n",
       "      <th>2017-02-02</th>\n",
       "      <td>67.00</td>\n",
       "    </tr>\n",
       "    <tr>\n",
       "      <th>2017-02-03</th>\n",
       "      <td>65.00</td>\n",
       "    </tr>\n",
       "    <tr>\n",
       "      <th>...</th>\n",
       "      <td>...</td>\n",
       "    </tr>\n",
       "    <tr>\n",
       "      <th>2017-07-04</th>\n",
       "      <td>90.00</td>\n",
       "    </tr>\n",
       "    <tr>\n",
       "      <th>2017-07-05</th>\n",
       "      <td>90.00</td>\n",
       "    </tr>\n",
       "    <tr>\n",
       "      <th>2017-07-06</th>\n",
       "      <td>87.00</td>\n",
       "    </tr>\n",
       "    <tr>\n",
       "      <th>2017-07-07</th>\n",
       "      <td>84.00</td>\n",
       "    </tr>\n",
       "    <tr>\n",
       "      <th>2017-07-08</th>\n",
       "      <td>81.00</td>\n",
       "    </tr>\n",
       "    <tr>\n",
       "      <th>2017-07-09</th>\n",
       "      <td>78.00</td>\n",
       "    </tr>\n",
       "    <tr>\n",
       "      <th>2017-07-10</th>\n",
       "      <td>75.00</td>\n",
       "    </tr>\n",
       "    <tr>\n",
       "      <th>2017-07-11</th>\n",
       "      <td>72.00</td>\n",
       "    </tr>\n",
       "    <tr>\n",
       "      <th>2017-07-12</th>\n",
       "      <td>69.00</td>\n",
       "    </tr>\n",
       "    <tr>\n",
       "      <th>2017-07-13</th>\n",
       "      <td>68.75</td>\n",
       "    </tr>\n",
       "    <tr>\n",
       "      <th>2017-07-14</th>\n",
       "      <td>68.50</td>\n",
       "    </tr>\n",
       "    <tr>\n",
       "      <th>2017-07-15</th>\n",
       "      <td>68.25</td>\n",
       "    </tr>\n",
       "    <tr>\n",
       "      <th>2017-07-16</th>\n",
       "      <td>68.00</td>\n",
       "    </tr>\n",
       "    <tr>\n",
       "      <th>2017-07-17</th>\n",
       "      <td>67.75</td>\n",
       "    </tr>\n",
       "    <tr>\n",
       "      <th>2017-07-18</th>\n",
       "      <td>67.50</td>\n",
       "    </tr>\n",
       "    <tr>\n",
       "      <th>2017-07-19</th>\n",
       "      <td>67.25</td>\n",
       "    </tr>\n",
       "    <tr>\n",
       "      <th>2017-07-20</th>\n",
       "      <td>67.00</td>\n",
       "    </tr>\n",
       "    <tr>\n",
       "      <th>2017-07-21</th>\n",
       "      <td>66.75</td>\n",
       "    </tr>\n",
       "    <tr>\n",
       "      <th>2017-07-22</th>\n",
       "      <td>66.50</td>\n",
       "    </tr>\n",
       "    <tr>\n",
       "      <th>2017-07-23</th>\n",
       "      <td>66.25</td>\n",
       "    </tr>\n",
       "    <tr>\n",
       "      <th>2017-07-24</th>\n",
       "      <td>66.00</td>\n",
       "    </tr>\n",
       "    <tr>\n",
       "      <th>2017-07-25</th>\n",
       "      <td>65.75</td>\n",
       "    </tr>\n",
       "    <tr>\n",
       "      <th>2017-07-26</th>\n",
       "      <td>65.50</td>\n",
       "    </tr>\n",
       "    <tr>\n",
       "      <th>2017-07-27</th>\n",
       "      <td>65.25</td>\n",
       "    </tr>\n",
       "    <tr>\n",
       "      <th>2017-07-28</th>\n",
       "      <td>65.00</td>\n",
       "    </tr>\n",
       "    <tr>\n",
       "      <th>2017-07-29</th>\n",
       "      <td>64.75</td>\n",
       "    </tr>\n",
       "    <tr>\n",
       "      <th>2017-07-30</th>\n",
       "      <td>64.50</td>\n",
       "    </tr>\n",
       "    <tr>\n",
       "      <th>2017-07-31</th>\n",
       "      <td>64.25</td>\n",
       "    </tr>\n",
       "    <tr>\n",
       "      <th>2017-08-01</th>\n",
       "      <td>64.00</td>\n",
       "    </tr>\n",
       "    <tr>\n",
       "      <th>2017-08-02</th>\n",
       "      <td>63.75</td>\n",
       "    </tr>\n",
       "  </tbody>\n",
       "</table>\n",
       "<p>210 rows × 1 columns</p>\n",
       "</div>"
      ],
      "text/plain": [
       "             close\n",
       "day               \n",
       "2017-01-05  100.00\n",
       "2017-01-06   99.00\n",
       "2017-01-07   98.00\n",
       "2017-01-08   97.00\n",
       "2017-01-09   96.00\n",
       "2017-01-10   95.00\n",
       "2017-01-11   94.00\n",
       "2017-01-12   93.00\n",
       "2017-01-13   92.00\n",
       "2017-01-14   91.00\n",
       "2017-01-15   90.00\n",
       "2017-01-16   89.00\n",
       "2017-01-17   88.00\n",
       "2017-01-18   87.00\n",
       "2017-01-19   86.00\n",
       "2017-01-20   85.00\n",
       "2017-01-21   84.00\n",
       "2017-01-22   83.00\n",
       "2017-01-23   82.00\n",
       "2017-01-24   81.00\n",
       "2017-01-25   80.00\n",
       "2017-01-26   79.00\n",
       "2017-01-27   78.00\n",
       "2017-01-28   77.00\n",
       "2017-01-29   75.00\n",
       "2017-01-30   73.00\n",
       "2017-01-31   71.00\n",
       "2017-02-01   69.00\n",
       "2017-02-02   67.00\n",
       "2017-02-03   65.00\n",
       "...            ...\n",
       "2017-07-04   90.00\n",
       "2017-07-05   90.00\n",
       "2017-07-06   87.00\n",
       "2017-07-07   84.00\n",
       "2017-07-08   81.00\n",
       "2017-07-09   78.00\n",
       "2017-07-10   75.00\n",
       "2017-07-11   72.00\n",
       "2017-07-12   69.00\n",
       "2017-07-13   68.75\n",
       "2017-07-14   68.50\n",
       "2017-07-15   68.25\n",
       "2017-07-16   68.00\n",
       "2017-07-17   67.75\n",
       "2017-07-18   67.50\n",
       "2017-07-19   67.25\n",
       "2017-07-20   67.00\n",
       "2017-07-21   66.75\n",
       "2017-07-22   66.50\n",
       "2017-07-23   66.25\n",
       "2017-07-24   66.00\n",
       "2017-07-25   65.75\n",
       "2017-07-26   65.50\n",
       "2017-07-27   65.25\n",
       "2017-07-28   65.00\n",
       "2017-07-29   64.75\n",
       "2017-07-30   64.50\n",
       "2017-07-31   64.25\n",
       "2017-08-01   64.00\n",
       "2017-08-02   63.75\n",
       "\n",
       "[210 rows x 1 columns]"
      ]
     },
     "execution_count": 41,
     "metadata": {},
     "output_type": "execute_result"
    }
   ],
   "source": [
    "#Toy model\n",
    "df1 =pd.read_excel('C:/Users/Administrator/Desktop/Work/Projects/Autocall/fake_test_data.xlsx')\n",
    "df1.index = df1.day\n",
    "df1.drop('day',axis=1,inplace=True)\n",
    "df1.columns = ['close']\n",
    "df1"
   ]
  },
  {
   "cell_type": "code",
   "execution_count": 42,
   "metadata": {},
   "outputs": [
    {
     "data": {
      "text/plain": [
       "<matplotlib.axes._subplots.AxesSubplot at 0xbaf1d68>"
      ]
     },
     "execution_count": 42,
     "metadata": {},
     "output_type": "execute_result"
    },
    {
     "data": {
      "image/png": "[encoded data removed]",
      "text/plain": [
       "<matplotlib.figure.Figure at 0xbb19978>"
      ]
     },
     "metadata": {},
     "output_type": "display_data"
    }
   ],
   "source": [
    "df1.plot()"
   ]
  },
  {
   "cell_type": "code",
   "execution_count": 18,
   "metadata": {},
   "outputs": [
    {
     "name": "stdout",
     "output_type": "stream",
     "text": [
      "knock-out, knock-out!\n",
      "knock-in, knock-in!\n"
     ]
    },
    {
     "data": {
      "text/plain": [
       "0.07500000000000001"
      ]
     },
     "execution_count": 18,
     "metadata": {},
     "output_type": "execute_result"
    }
   ],
   "source": [
    "phoenix_rtn(df1, '2017-01-04', 6, 0.025, 0.7)"
   ]
  },
  {
   "cell_type": "code",
   "execution_count": 21,
   "metadata": {},
   "outputs": [
    {
     "name": "stdout",
     "output_type": "stream",
     "text": [
      "did not knock-in!\n"
     ]
    },
    {
     "data": {
      "text/plain": [
       "0.15"
      ]
     },
     "execution_count": 21,
     "metadata": {},
     "output_type": "execute_result"
    }
   ],
   "source": [
    "phoenix_rtn(df1, '2017-01-04', 6, 0.025, 0.7)"
   ]
  },
  {
   "cell_type": "code",
   "execution_count": 43,
   "metadata": {},
   "outputs": [
    {
     "name": "stdout",
     "output_type": "stream",
     "text": [
      "knock-in, knock-in!\n",
      "hi\n"
     ]
    },
    {
     "data": {
      "text/plain": [
       "0.024999999999999994"
      ]
     },
     "execution_count": 43,
     "metadata": {},
     "output_type": "execute_result"
    }
   ],
   "source": [
    "phoenix_rtn(df1, '2017-01-05', 6, 0.025, 0.7)"
   ]
  },
  {
   "cell_type": "code",
   "execution_count": null,
   "metadata": {
    "collapsed": true
   },
   "outputs": [],
   "source": []
  }
 ],
 "metadata": {
  "kernelspec": {
   "display_name": "Python 3",
   "language": "python",
   "name": "python3"
  },
  "language_info": {
   "codemirror_mode": {
    "name": "ipython",
    "version": 3
   },
   "file_extension": ".py",
   "mimetype": "text/x-python",
   "name": "python",
   "nbconvert_exporter": "python",
   "pygments_lexer": "ipython3",
   "version": "3.6.1"
  }
 },
 "nbformat": 4,
 "nbformat_minor": 2
}
