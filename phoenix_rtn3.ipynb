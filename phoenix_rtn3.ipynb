{
 "cells": [
  {
   "cell_type": "code",
   "execution_count": 1,
   "metadata": {
    "collapsed": true
   },
   "outputs": [],
   "source": [
    "#本版本已修改观察日为开始时期按月增加，如果那天不是交易日，则移动至下一个交易日\n",
    "#2.0 现在版本支持任意合约月份输入了！修复了提前敲出时收益率亏损的问题\n",
    "#增加了敲出价格的比例设置\n",
    "import pandas as pd\n",
    "import numpy as np\n",
    "from datetime import datetime\n",
    "from dateutil.relativedelta import relativedelta\n",
    "%matplotlib inline"
   ]
  },
  {
   "cell_type": "code",
   "execution_count": 2,
   "metadata": {
    "collapsed": true
   },
   "outputs": [],
   "source": [
    "def get_obs_ndays(dt,m):\n",
    "    dt = pd.to_datetime(dt)\n",
    "    l =[]\n",
    "    for i in range(m):\n",
    "        day = dt + relativedelta(months= i+1)\n",
    "        l.append(day)\n",
    "    return l"
   ]
  },
  {
   "cell_type": "code",
   "execution_count": 3,
   "metadata": {
    "collapsed": true
   },
   "outputs": [],
   "source": [
    "def split_ndf(df,dt,months):\n",
    "    dt = pd.to_datetime(dt)\n",
    "    l = get_obs_ndays(dt,months+1)\n",
    "    list=[]\n",
    "    df1 = df[dt:l[0]]\n",
    "    list.append(df1)    \n",
    "    for i in range(months):\n",
    "        dfi = df[l[i]:l[i+1]]\n",
    "        list.append(dfi)\n",
    "    return list"
   ]
  },
  {
   "cell_type": "code",
   "execution_count": 4,
   "metadata": {
    "collapsed": true
   },
   "outputs": [],
   "source": [
    "def judge_tradeday(dl,dlis,months):\n",
    "    for i in range(months):\n",
    "        if dl[i] in dlis[i].index:\n",
    "            #print ('No change')\n",
    "            continue\n",
    "        else:\n",
    "            dl[i] = dlis[i+1][0:1].index\n",
    "            pydate_array = dl[i].to_pydatetime()\n",
    "            date_only_array = np.vectorize(lambda s: s.strftime('%Y-%m-%d'))(pydate_array )\n",
    "            date_only_series = pd.Series(date_only_array)\n",
    "            dl[i] = date_only_series[0]\n",
    "            dl[i] = pd.to_datetime(dl[i])\n",
    "            dl[i] = dl[i] + relativedelta(months=0)\n",
    "            #print (dl[i])\n",
    "    return dl"
   ]
  },
  {
   "cell_type": "code",
   "execution_count": 5,
   "metadata": {
    "collapsed": true
   },
   "outputs": [],
   "source": [
    "def month_pro(df, jt, open_price, lowerbond, rate):\n",
    "    knock_out = 0\n",
    "    profit = 0\n",
    "    loss= 0\n",
    "    m = df[df.index == jt]\n",
    "    a = m.close.max()\n",
    "    b = open_price.close.max()\n",
    "    c = lowerbond.close.max()\n",
    "    if a > b:\n",
    "        #print ('knock-out, knock-out!')\n",
    "        profit = rate\n",
    "        knock_out = 1\n",
    "    elif a >= c:\n",
    "        profit = rate\n",
    "        \n",
    "    else:\n",
    "        profit = 0\n",
    "    return [knock_out, profit]   "
   ]
  },
  {
   "cell_type": "code",
   "execution_count": 6,
   "metadata": {
    "collapsed": true
   },
   "outputs": [],
   "source": [
    "def knock_in(df, dt, mths, lowerbond):\n",
    "    knock_in = 0\n",
    "    dt = pd.to_datetime(dt)\n",
    "    y = dt + relativedelta(months= mths )\n",
    "    df1 = df[dt:y]\n",
    "    #df1.plot()\n",
    "    if np.isnan(df1[df1 < lowerbond.close.min()].close.min())== 1:\n",
    "        #print ('did not knock-in!' )\n",
    "        knock_in =1\n",
    "        return knock_in\n",
    "    else: \n",
    "        #print ('knock-in, knock-in!')\n",
    "        return knock_in"
   ]
  },
  {
   "cell_type": "code",
   "execution_count": 7,
   "metadata": {
    "collapsed": true
   },
   "outputs": [],
   "source": [
    "def final_rtn(df,dt,open_price, mths, m,cum_pro):\n",
    "    dt = pd.to_datetime(dt)\n",
    "    y = dt + relativedelta(months= mths )\n",
    "    df1 = df[dt:y]\n",
    "    #print (df1[-1:].close)\n",
    "    if ((df1[-1:].close.min() < open_price.close.min()) and (m == 0) )== True:\n",
    "        final_rtn = cum_pro + ((df1[-1:].close.min() - open_price.close.min())/open_price.close.min())\n",
    "        #print('hi')\n",
    "    else:\n",
    "        final_rtn = cum_pro\n",
    "    return final_rtn"
   ]
  },
  {
   "cell_type": "code",
   "execution_count": 8,
   "metadata": {
    "collapsed": true
   },
   "outputs": [],
   "source": [
    "def phoenix_rtn(df, dt, months, rtn_rate, low_rate=0.7, high_rate =1.0):\n",
    "    obdays = get_obs_ndays(dt,months)\n",
    "    list = split_ndf(df, dt, months)\n",
    "    jt = judge_tradeday(obdays,list,months)\n",
    "    open_price = list[0][0:1]*high_rate\n",
    "    lowerbond = open_price*low_rate\n",
    "    cum_pro = 0\n",
    "    real_months = months\n",
    "    for i in range(months):\n",
    "        result = month_pro(df, jt[i], open_price, lowerbond, rtn_rate)\n",
    "        cum_pro = cum_pro + result[1]\n",
    "        if result[0] == 1:\n",
    "            real_months = i+1\n",
    "            break\n",
    "    m = knock_in(df, dt, months,lowerbond)\n",
    "    total_rtn = final_rtn(df, dt, open_price, real_months, m, cum_pro)\n",
    "    return total_rtn"
   ]
  },
  {
   "cell_type": "code",
   "execution_count": 294,
   "metadata": {
    "collapsed": true,
    "scrolled": true
   },
   "outputs": [],
   "source": [
    "#df = pd.read_hdf('C:/Users/Administrator/Desktop/Work/Projects/Autocall/new000905.h5')\n",
    "#df.index = pd.to_datetime(df.index)\n",
    "#df"
   ]
  },
  {
   "cell_type": "code",
   "execution_count": 295,
   "metadata": {
    "collapsed": true,
    "scrolled": false
   },
   "outputs": [],
   "source": [
    "#phoenix_rtn(df, '2016-11-14', 4, 0.04, 0.7)"
   ]
  },
  {
   "cell_type": "code",
   "execution_count": 22,
   "metadata": {},
   "outputs": [
    {
     "data": {
      "text/plain": [
       "-0.15000000000000002"
      ]
     },
     "execution_count": 22,
     "metadata": {},
     "output_type": "execute_result"
    }
   ],
   "source": [
    "df1 = pd.read_excel('C:/Users/Administrator/Desktop/Work/Projects/Autocall/fake_test_data.xlsx')\n",
    "df1.index = df1.day\n",
    "df1.drop('day',axis=1,inplace=True)\n",
    "df1.columns = ['close']\n",
    "phoenix_rtn(df1, '2017-1-5', 3, 0.025,0.7,1)"
   ]
  },
  {
   "cell_type": "code",
   "execution_count": 297,
   "metadata": {
    "collapsed": true,
    "scrolled": false
   },
   "outputs": [],
   "source": [
    "#phoenix_rtn(df1, '2017-1-5', 6,0.025,0.7)"
   ]
  },
  {
   "cell_type": "code",
   "execution_count": null,
   "metadata": {
    "collapsed": true
   },
   "outputs": [],
   "source": []
  }
 ],
 "metadata": {
  "kernelspec": {
   "display_name": "Python 3",
   "language": "python",
   "name": "python3"
  },
  "language_info": {
   "codemirror_mode": {
    "name": "ipython",
    "version": 3
   },
   "file_extension": ".py",
   "mimetype": "text/x-python",
   "name": "python",
   "nbconvert_exporter": "python",
   "pygments_lexer": "ipython3",
   "version": "3.6.1"
  }
 },
 "nbformat": 4,
 "nbformat_minor": 2
}
